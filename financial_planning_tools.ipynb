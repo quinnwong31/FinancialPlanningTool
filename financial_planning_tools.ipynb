{
 "cells": [
  {
   "cell_type": "markdown",
   "metadata": {},
   "source": [
    "# Financial Planning with APIs and Simulations\n",
    "\n",
    "In this Challenge, you’ll create two financial analysis tools by using a single Jupyter notebook:\n",
    "\n",
    "Part 1: A financial planner for emergencies. The members will be able to use this tool to visualize their current savings. The members can then determine if they have enough reserves for an emergency fund.\n",
    "\n",
    "Part 2: A financial planner for retirement. This tool will forecast the performance of their retirement portfolio in 30 years. To do this, the tool will make an Alpaca API call via the Alpaca SDK to get historical price data for use in Monte Carlo simulations.\n",
    "\n",
    "You’ll use the information from the Monte Carlo simulation to answer questions about the portfolio in your Jupyter notebook.\n",
    "\n"
   ]
  },
  {
   "cell_type": "code",
   "execution_count": 1,
   "metadata": {},
   "outputs": [],
   "source": [
    "# Import the required libraries and dependencies\n",
    "import os\n",
    "import requests\n",
    "import json\n",
    "import pandas as pd\n",
    "from dotenv import load_dotenv\n",
    "import alpaca_trade_api as tradeapi\n",
    "from MCForecastTools import MCSimulation\n",
    "\n",
    "%matplotlib inline"
   ]
  },
  {
   "cell_type": "code",
   "execution_count": 2,
   "metadata": {},
   "outputs": [
    {
     "data": {
      "text/plain": [
       "True"
      ]
     },
     "execution_count": 2,
     "metadata": {},
     "output_type": "execute_result"
    }
   ],
   "source": [
    "# Load the environment variables from the .env file\n",
    "#by calling the load_dotenv function\n",
    "load_dotenv()"
   ]
  },
  {
   "cell_type": "markdown",
   "metadata": {},
   "source": [
    "## Part 1: Create a Financial Planner for Emergencies"
   ]
  },
  {
   "cell_type": "markdown",
   "metadata": {},
   "source": [
    "### Evaluate the Cryptocurrency Wallet by Using the Requests Library\n",
    "\n",
    "In this section, you’ll determine the current value of a member’s cryptocurrency wallet. You’ll collect the current prices for the Bitcoin and Ethereum cryptocurrencies by using the Python Requests library. For the prototype, you’ll assume that the member holds the 1.2 Bitcoins (BTC) and 5.3 Ethereum coins (ETH). To do all this, complete the following steps:\n",
    "\n",
    "1. Create a variable named `monthly_income`, and set its value to `12000`.\n",
    "\n",
    "2. Use the Requests library to get the current price (in US dollars) of Bitcoin (BTC) and Ethereum (ETH) by using the API endpoints that the starter code supplies.\n",
    "\n",
    "3. Navigate the JSON response object to access the current price of each coin, and store each in a variable.\n",
    "\n",
    "    > **Hint** Note the specific identifier for each cryptocurrency in the API JSON response. The Bitcoin identifier is `1`, and the Ethereum identifier is `1027`.\n",
    "\n",
    "4. Calculate the value, in US dollars, of the current amount of each cryptocurrency and of the entire cryptocurrency wallet.\n",
    "\n"
   ]
  },
  {
   "cell_type": "code",
   "execution_count": 3,
   "metadata": {},
   "outputs": [],
   "source": [
    "# The current number of coins for each cryptocurrency asset held in the portfolio.\n",
    "btc_coins = 1.2\n",
    "eth_coins = 5.3"
   ]
  },
  {
   "cell_type": "markdown",
   "metadata": {},
   "source": [
    "#### Step 1: Create a variable named `monthly_income`, and set its value to `12000`."
   ]
  },
  {
   "cell_type": "code",
   "execution_count": 4,
   "metadata": {},
   "outputs": [],
   "source": [
    "# The monthly amount for the member's household income\n",
    "monthly_income = 12000\n"
   ]
  },
  {
   "cell_type": "markdown",
   "metadata": {},
   "source": [
    "#### Review the endpoint URLs for the API calls to Free Crypto API in order to get the current pricing information for both BTC and ETH."
   ]
  },
  {
   "cell_type": "code",
   "execution_count": 5,
   "metadata": {},
   "outputs": [],
   "source": [
    "# The Free Crypto API Call endpoint URLs for the held cryptocurrency assets\n",
    "btc_url = \"https://api.alternative.me/v2/ticker/Bitcoin/?convert=USD\"\n",
    "eth_url = \"https://api.alternative.me/v2/ticker/Ethereum/?convert=USD\""
   ]
  },
  {
   "cell_type": "markdown",
   "metadata": {},
   "source": [
    "#### Step 2. Use the Requests library to get the current price (in US dollars) of Bitcoin (BTC) and Ethereum (ETH) by using the API endpoints that the starter code supplied."
   ]
  },
  {
   "cell_type": "code",
   "execution_count": 6,
   "metadata": {},
   "outputs": [
    {
     "name": "stdout",
     "output_type": "stream",
     "text": [
      "{\n",
      "    \"data\": {\n",
      "        \"1\": {\n",
      "            \"circulating_supply\": 19098806,\n",
      "            \"id\": 1,\n",
      "            \"last_updated\": 1658362467,\n",
      "            \"max_supply\": 21000000,\n",
      "            \"name\": \"Bitcoin\",\n",
      "            \"quotes\": {\n",
      "                \"USD\": {\n",
      "                    \"market_cap\": 442901604102,\n",
      "                    \"percent_change_1h\": 0.22505327278556,\n",
      "                    \"percent_change_24h\": 0.0106989943257125,\n",
      "                    \"percent_change_7d\": 15.1724359794878,\n",
      "                    \"percentage_change_1h\": 0.22505327278556,\n",
      "                    \"percentage_change_24h\": 0.0106989943257125,\n",
      "                    \"percentage_change_7d\": 15.1724359794878,\n",
      "                    \"price\": 23294.0,\n",
      "                    \"volume_24h\": 41229998928\n",
      "                }\n",
      "            },\n",
      "            \"rank\": 1,\n",
      "            \"symbol\": \"BTC\",\n",
      "            \"total_supply\": 19098806,\n",
      "            \"website_slug\": \"bitcoin\"\n",
      "        }\n",
      "    },\n",
      "    \"metadata\": {\n",
      "        \"error\": null,\n",
      "        \"num_cryptocurrencies\": 3116,\n",
      "        \"timestamp\": 1658362467\n",
      "    }\n",
      "}\n"
     ]
    }
   ],
   "source": [
    "# Using the Python requests library, make an API call to access the current price of BTC\n",
    "btc_response = requests.get(btc_url).json();\n",
    "\n",
    "# Use the json.dumps function to review the response data from the API call\n",
    "# Use the indent and sort_keys parameters to make the response object readable\n",
    "print(json.dumps(btc_response, indent=4, sort_keys=True))\n"
   ]
  },
  {
   "cell_type": "code",
   "execution_count": 7,
   "metadata": {},
   "outputs": [
    {
     "name": "stdout",
     "output_type": "stream",
     "text": [
      "{\n",
      "    \"data\": {\n",
      "        \"1027\": {\n",
      "            \"circulating_supply\": 119759069,\n",
      "            \"id\": 1027,\n",
      "            \"last_updated\": 1658362423,\n",
      "            \"max_supply\": 119758305,\n",
      "            \"name\": \"Ethereum\",\n",
      "            \"quotes\": {\n",
      "                \"USD\": {\n",
      "                    \"market_cap\": 181680480615,\n",
      "                    \"percent_change_1h\": 0.64479391322617,\n",
      "                    \"percent_change_24h\": -0.323575831656849,\n",
      "                    \"percent_change_7d\": 37.3009248620374,\n",
      "                    \"percentage_change_1h\": 0.64479391322617,\n",
      "                    \"percentage_change_24h\": -0.323575831656849,\n",
      "                    \"percentage_change_7d\": 37.3009248620374,\n",
      "                    \"price\": 1528.05,\n",
      "                    \"volume_24h\": 21439111256\n",
      "                }\n",
      "            },\n",
      "            \"rank\": 2,\n",
      "            \"symbol\": \"ETH\",\n",
      "            \"total_supply\": 119759069,\n",
      "            \"website_slug\": \"ethereum\"\n",
      "        }\n",
      "    },\n",
      "    \"metadata\": {\n",
      "        \"error\": null,\n",
      "        \"num_cryptocurrencies\": 3116,\n",
      "        \"timestamp\": 1658362423\n",
      "    }\n",
      "}\n"
     ]
    }
   ],
   "source": [
    "# Using the Python requests library, make an API call to access the current price ETH\n",
    "eth_response = requests.get(eth_url).json()\n",
    "\n",
    "# Use the json.dumps function to review the response data from the API call\n",
    "# Use the indent and sort_keys parameters to make the response object readable\n",
    "print(json.dumps(eth_response, indent=4, sort_keys=True))\n"
   ]
  },
  {
   "cell_type": "markdown",
   "metadata": {},
   "source": [
    "#### Step 3: Navigate the JSON response object to access the current price of each coin, and store each in a variable."
   ]
  },
  {
   "cell_type": "code",
   "execution_count": 8,
   "metadata": {},
   "outputs": [
    {
     "name": "stdout",
     "output_type": "stream",
     "text": [
      "The current price of BTC is $23294.00\n"
     ]
    }
   ],
   "source": [
    "# Navigate the BTC response object to access the current price of BTC\n",
    "btc_price = btc_response[\"data\"][\"1\"][\"quotes\"][\"USD\"][\"price\"]\n",
    "\n",
    "# Print the current price of BTC\n",
    "print(f\"The current price of BTC is ${btc_price:.2f}\")"
   ]
  },
  {
   "cell_type": "code",
   "execution_count": 9,
   "metadata": {},
   "outputs": [
    {
     "name": "stdout",
     "output_type": "stream",
     "text": [
      "The current price of ETH is $ 1528.05\n"
     ]
    }
   ],
   "source": [
    "# Navigate the BTC response object to access the current price of ETH\n",
    "eth_price = eth_response[\"data\"][\"1027\"][\"quotes\"][\"USD\"][\"price\"]\n",
    "\n",
    "# Print the current price of ETH\n",
    "print(f\"The current price of ETH is ${eth_price: .2f}\")\n"
   ]
  },
  {
   "cell_type": "markdown",
   "metadata": {},
   "source": [
    "### Step 4: Calculate the value, in US dollars, of the current amount of each cryptocurrency and of the entire cryptocurrency wallet."
   ]
  },
  {
   "cell_type": "code",
   "execution_count": 10,
   "metadata": {},
   "outputs": [
    {
     "name": "stdout",
     "output_type": "stream",
     "text": [
      "The current value of holdings in BTC is $ 27952.80\n"
     ]
    }
   ],
   "source": [
    "# Compute the current value of the BTC holding \n",
    "btc_value = btc_coins * btc_price\n",
    "\n",
    "# Print current value of your holding in BTC\n",
    "print(f\"The current value of holdings in BTC is ${btc_value: .2f}\")\n"
   ]
  },
  {
   "cell_type": "code",
   "execution_count": 11,
   "metadata": {},
   "outputs": [
    {
     "name": "stdout",
     "output_type": "stream",
     "text": [
      "The current value of holdings in ETH is $ 8098.66\n"
     ]
    }
   ],
   "source": [
    "# Compute the current value of the ETH holding \n",
    "eth_value = eth_coins * eth_price\n",
    "\n",
    "# Print current value of your holding in ETH\n",
    "print(f\"The current value of holdings in ETH is ${eth_value: .2f}\")\n"
   ]
  },
  {
   "cell_type": "code",
   "execution_count": 12,
   "metadata": {},
   "outputs": [
    {
     "name": "stdout",
     "output_type": "stream",
     "text": [
      "Current cryptocurrency wallet balance is $ 36051.46\n"
     ]
    }
   ],
   "source": [
    "# Compute the total value of the cryptocurrency wallet\n",
    "# Add the value of the BTC holding to the value of the ETH holding\n",
    "total_crypto_wallet = btc_value + eth_value\n",
    "\n",
    "# Print current cryptocurrency wallet balance\n",
    "print(f\"Current cryptocurrency wallet balance is ${total_crypto_wallet: .2f}\")\n"
   ]
  },
  {
   "cell_type": "markdown",
   "metadata": {},
   "source": [
    "### Evaluate the Stock and Bond Holdings by Using the Alpaca SDK\n",
    "\n",
    "In this section, you’ll determine the current value of a member’s stock and bond holdings. You’ll make an API call to Alpaca via the Alpaca SDK to get the current closing prices of the SPDR S&P 500 ETF Trust (ticker: SPY) and of the iShares Core US Aggregate Bond ETF (ticker: AGG). For the prototype, assume that the member holds 110 shares of SPY, which represents the stock portion of their portfolio, and 200 shares of AGG, which represents the bond portion. To do all this, complete the following steps:\n",
    "\n",
    "1. In the `Starter_Code` folder, create an environment file (`.env`) to store the values of your Alpaca API key and Alpaca secret key.\n",
    "\n",
    "2. Set the variables for the Alpaca API and secret keys. Using the Alpaca SDK, create the Alpaca `tradeapi.REST` object. In this object, include the parameters for the Alpaca API key, the secret key, and the version number.\n",
    "\n",
    "3. Set the following parameters for the Alpaca API call:\n",
    "\n",
    "    - `tickers`: Use the tickers for the member’s stock and bond holdings.\n",
    "\n",
    "    - `timeframe`: Use a time frame of one day.\n",
    "\n",
    "    - `start_date` and `end_date`: Use the same date for these parameters, and format them with the date of the previous weekday (or `2020-08-07`). This is because you want the one closing price for the most-recent trading day.\n",
    "\n",
    "4. Get the current closing prices for `SPY` and `AGG` by using the Alpaca `get_bars` function. Format the response as a Pandas DataFrame by including the `df` property at the end of the `get_bars` function.\n",
    "\n",
    "5. Navigating the Alpaca response DataFrame, select the `SPY` and `AGG` closing prices, and store them as variables.\n",
    "\n",
    "6. Calculate the value, in US dollars, of the current amount of shares in each of the stock and bond portions of the portfolio, and print the results.\n"
   ]
  },
  {
   "cell_type": "markdown",
   "metadata": {},
   "source": [
    "#### Review the total number of shares held in both (SPY) and (AGG)."
   ]
  },
  {
   "cell_type": "code",
   "execution_count": 13,
   "metadata": {},
   "outputs": [],
   "source": [
    "# Current amount of shares held in both the stock (SPY) and bond (AGG) portion of the portfolio.\n",
    "spy_shares = 110\n",
    "agg_shares = 200\n"
   ]
  },
  {
   "cell_type": "markdown",
   "metadata": {},
   "source": [
    "#### Step 1: In the `Starter_Code` folder, create an environment file (`.env`) to store the values of your Alpaca API key and Alpaca secret key."
   ]
  },
  {
   "cell_type": "markdown",
   "metadata": {},
   "source": [
    "#### Step 2: Set the variables for the Alpaca API and secret keys. Using the Alpaca SDK, create the Alpaca `tradeapi.REST` object. In this object, include the parameters for the Alpaca API key, the secret key, and the version number."
   ]
  },
  {
   "cell_type": "code",
   "execution_count": 14,
   "metadata": {},
   "outputs": [],
   "source": [
    "# Set the variables for the Alpaca API and secret keys\n",
    "alpaca_api_key = os.getenv('ALPACA_API_KEY')\n",
    "alpaca_secret_key = os.getenv('ALPACA_SECRET_KEY')\n",
    "\n",
    "# Create the Alpaca tradeapi.REST object\n",
    "alpaca = tradeapi.REST(\n",
    "    alpaca_api_key,\n",
    "    alpaca_secret_key,\n",
    "    api_version=\"v2\")\n"
   ]
  },
  {
   "cell_type": "markdown",
   "metadata": {},
   "source": [
    "#### Step 3: Set the following parameters for the Alpaca API call:\n",
    "\n",
    "- `tickers`: Use the tickers for the member’s stock and bond holdings.\n",
    "\n",
    "- `timeframe`: Use a time frame of one day.\n",
    "\n",
    "- `start_date` and `end_date`: Use the same date for these parameters, and format them with the date of the previous weekday (or `2020-08-07`). This is because you want the one closing price for the most-recent trading day.\n"
   ]
  },
  {
   "cell_type": "code",
   "execution_count": 15,
   "metadata": {},
   "outputs": [],
   "source": [
    "# Set the tickers for both the bond and stock portion of the portfolio\n",
    "tickers = ['SPY', 'AGG']\n",
    "\n",
    "# Set timeframe to 1Day\n",
    "timeframe = '1Day'\n",
    "\n",
    "# Format current date as ISO format\n",
    "# Set both the start and end date at the date of your prior weekday \n",
    "# This will give you the closing price of the previous trading day\n",
    "# Alternatively you can use a start and end date of 2020-08-07\n",
    "start_date = pd.Timestamp(\"2022-07-15\", tz=\"America/New_York\").isoformat()\n",
    "end_date = pd.Timestamp(\"2022-07-15\", tz=\"America/New_York\").isoformat()\n"
   ]
  },
  {
   "cell_type": "markdown",
   "metadata": {},
   "source": [
    "#### Step 4: Get the current closing prices for `SPY` and `AGG` by using the Alpaca `get_bars` function. Format the response as a Pandas DataFrame by including the `df` property at the end of the `get_bars` function."
   ]
  },
  {
   "cell_type": "code",
   "execution_count": 16,
   "metadata": {},
   "outputs": [
    {
     "data": {
      "text/html": [
       "<div>\n",
       "<style scoped>\n",
       "    .dataframe tbody tr th:only-of-type {\n",
       "        vertical-align: middle;\n",
       "    }\n",
       "\n",
       "    .dataframe tbody tr th {\n",
       "        vertical-align: top;\n",
       "    }\n",
       "\n",
       "    .dataframe thead tr th {\n",
       "        text-align: left;\n",
       "    }\n",
       "\n",
       "    .dataframe thead tr:last-of-type th {\n",
       "        text-align: right;\n",
       "    }\n",
       "</style>\n",
       "<table border=\"1\" class=\"dataframe\">\n",
       "  <thead>\n",
       "    <tr>\n",
       "      <th></th>\n",
       "      <th colspan=\"7\" halign=\"left\">SPY</th>\n",
       "      <th colspan=\"7\" halign=\"left\">AGG</th>\n",
       "    </tr>\n",
       "    <tr>\n",
       "      <th></th>\n",
       "      <th>open</th>\n",
       "      <th>high</th>\n",
       "      <th>low</th>\n",
       "      <th>close</th>\n",
       "      <th>volume</th>\n",
       "      <th>trade_count</th>\n",
       "      <th>vwap</th>\n",
       "      <th>open</th>\n",
       "      <th>high</th>\n",
       "      <th>low</th>\n",
       "      <th>close</th>\n",
       "      <th>volume</th>\n",
       "      <th>trade_count</th>\n",
       "      <th>vwap</th>\n",
       "    </tr>\n",
       "    <tr>\n",
       "      <th>timestamp</th>\n",
       "      <th></th>\n",
       "      <th></th>\n",
       "      <th></th>\n",
       "      <th></th>\n",
       "      <th></th>\n",
       "      <th></th>\n",
       "      <th></th>\n",
       "      <th></th>\n",
       "      <th></th>\n",
       "      <th></th>\n",
       "      <th></th>\n",
       "      <th></th>\n",
       "      <th></th>\n",
       "      <th></th>\n",
       "    </tr>\n",
       "  </thead>\n",
       "  <tbody>\n",
       "    <tr>\n",
       "      <th>2022-07-15 04:00:00+00:00</th>\n",
       "      <td>382.62</td>\n",
       "      <td>385.25</td>\n",
       "      <td>380.54</td>\n",
       "      <td>385.13</td>\n",
       "      <td>79318992</td>\n",
       "      <td>488124</td>\n",
       "      <td>383.334989</td>\n",
       "      <td>101.94</td>\n",
       "      <td>102.35</td>\n",
       "      <td>101.9</td>\n",
       "      <td>102.25</td>\n",
       "      <td>8440151</td>\n",
       "      <td>27300</td>\n",
       "      <td>102.214854</td>\n",
       "    </tr>\n",
       "  </tbody>\n",
       "</table>\n",
       "</div>"
      ],
      "text/plain": [
       "                              SPY                                    \\\n",
       "                             open    high     low   close    volume   \n",
       "timestamp                                                             \n",
       "2022-07-15 04:00:00+00:00  382.62  385.25  380.54  385.13  79318992   \n",
       "\n",
       "                                                      AGG                 \\\n",
       "                          trade_count        vwap    open    high    low   \n",
       "timestamp                                                                  \n",
       "2022-07-15 04:00:00+00:00      488124  383.334989  101.94  102.35  101.9   \n",
       "\n",
       "                                                                    \n",
       "                            close   volume trade_count        vwap  \n",
       "timestamp                                                           \n",
       "2022-07-15 04:00:00+00:00  102.25  8440151       27300  102.214854  "
      ]
     },
     "execution_count": 16,
     "metadata": {},
     "output_type": "execute_result"
    }
   ],
   "source": [
    "# Use the Alpaca get_bars function to get current closing prices the portfolio\n",
    "# Be sure to set the `df` property after the function to format the response object as a DataFrame\n",
    "df_portfolio = alpaca.get_bars(\n",
    "    tickers,\n",
    "    timeframe, \n",
    "    start = start_date,\n",
    "    end = end_date).df\n",
    "# df_portfolio\n",
    "\n",
    "# Reorganize the DataFrame\n",
    "# Separate ticker data\n",
    "SPY = df_portfolio[df_portfolio['symbol'] == 'SPY'].drop('symbol', axis=1)\n",
    "AGG = df_portfolio[df_portfolio['symbol'] == 'AGG'].drop('symbol', axis=1)\n",
    "\n",
    "# Concatenate the ticker DataFrames\n",
    "df_portfolio = pd.concat([SPY,AGG], axis=1, keys=['SPY','AGG'])\n",
    "\n",
    "# Review the first 5 rows of the Alpaca DataFrame\n",
    "df_portfolio.head()\n"
   ]
  },
  {
   "cell_type": "markdown",
   "metadata": {},
   "source": [
    "#### Step 5: Navigating the Alpaca response DataFrame, select the `SPY` and `AGG` closing prices, and store them as variables."
   ]
  },
  {
   "cell_type": "code",
   "execution_count": 17,
   "metadata": {},
   "outputs": [
    {
     "name": "stdout",
     "output_type": "stream",
     "text": [
      "102.25\n",
      "<class 'float'>\n"
     ]
    }
   ],
   "source": [
    "# Access the closing price for AGG from the Alpaca DataFrame\n",
    "# Converting the value to a floating point number\n",
    "agg_close_price = float(df_portfolio[\"AGG\"][\"close\"])\n",
    "\n",
    "# Print the AGG closing price\n",
    "print(agg_close_price)\n",
    "print(type(agg_close_price))"
   ]
  },
  {
   "cell_type": "code",
   "execution_count": 18,
   "metadata": {},
   "outputs": [
    {
     "name": "stdout",
     "output_type": "stream",
     "text": [
      "The SPY closing price is $385.13\n"
     ]
    }
   ],
   "source": [
    "# Access the closing price for SPY from the Alpaca DataFrame\n",
    "# Converting the value to a floating point number\n",
    "spy_close_price = float(df_portfolio[\"SPY\"][\"close\"])\n",
    "\n",
    "# Print the SPY closing price\n",
    "print(f\"The SPY closing price is ${spy_close_price}\")\n"
   ]
  },
  {
   "cell_type": "markdown",
   "metadata": {},
   "source": [
    "#### Step 6: Calculate the value, in US dollars, of the current amount of shares in each of the stock and bond portions of the portfolio, and print the results."
   ]
  },
  {
   "cell_type": "code",
   "execution_count": 19,
   "metadata": {},
   "outputs": [
    {
     "name": "stdout",
     "output_type": "stream",
     "text": [
      "The current value of the bond portfolio is $20450.0\n"
     ]
    }
   ],
   "source": [
    "# Calculate the current value of the bond portion of the portfolio.  To do so, \n",
    "# multiply the closing price of each stock by the shares that the portfolio_df\n",
    "# DataFrame supplies for you.\n",
    "agg_value = agg_shares * agg_close_price\n",
    "\n",
    "# Print the current value of the bond portfolio\n",
    "print(f\"The current value of the bond portfolio is ${agg_value}\")\n"
   ]
  },
  {
   "cell_type": "code",
   "execution_count": 20,
   "metadata": {},
   "outputs": [
    {
     "name": "stdout",
     "output_type": "stream",
     "text": [
      "The current value of the stock portfolio is $42364.30\n"
     ]
    }
   ],
   "source": [
    "# Calculate the current value of the stock portion of the portfolio.  To do so, \n",
    "# multiply the closing price of each stock by the shares that the portfolio_df\n",
    "# DataFrame supplies for you.\n",
    "spy_value = spy_shares * spy_close_price\n",
    "\n",
    "# Print the current value of the stock portfolio\n",
    "print(f\"The current value of the stock portfolio is ${spy_value :.2f}\")\n"
   ]
  },
  {
   "cell_type": "code",
   "execution_count": 21,
   "metadata": {},
   "outputs": [
    {
     "name": "stdout",
     "output_type": "stream",
     "text": [
      "The current value of the stock and bond portfolio is $62814.30\n"
     ]
    }
   ],
   "source": [
    "# Calculate the total value of the stock and bond portion of the portfolio\n",
    "total_stocks_bonds = agg_value + spy_value\n",
    "\n",
    "# Print the current balance of the stock and bond portion of the portfolio\n",
    "print(f\"The current value of the stock and bond portfolio is ${total_stocks_bonds :.2f}\")\n"
   ]
  },
  {
   "cell_type": "code",
   "execution_count": 22,
   "metadata": {},
   "outputs": [
    {
     "name": "stdout",
     "output_type": "stream",
     "text": [
      "The total value of the member's entire savings portfolio is $98865.76\n"
     ]
    }
   ],
   "source": [
    "# Calculate the total value of the member's entire savings portfolio\n",
    "# Add the value of the cryptocurrency walled to the value of the total stocks and bonds\n",
    "total_portfolio = total_crypto_wallet + total_stocks_bonds\n",
    "\n",
    "# Print current cryptocurrency wallet balance\n",
    "print(f\"The total value of the member's entire savings portfolio is ${total_portfolio :.2f}\")\n"
   ]
  },
  {
   "cell_type": "markdown",
   "metadata": {},
   "source": [
    "### Evaluate the Emergency Fund\n",
    "\n",
    "In this section, you’ll use the valuations for the cryptocurrency wallet and for the stock and bond portions of the portfolio to determine if the credit union member has enough savings to build an emergency fund into their financial plan. To do this, complete the following steps:\n",
    "\n",
    "1. Create a Python list named `savings_data` that has two elements. The first element contains the total value of the cryptocurrency wallet. The second element contains the total value of the stock and bond portions of the portfolio.\n",
    "\n",
    "2. Use the `savings_data` list to create a Pandas DataFrame named `savings_df`, and then display this DataFrame. The function to create the DataFrame should take the following three parameters:\n",
    "\n",
    "    - `savings_data`: Use the list that you just created.\n",
    "\n",
    "    - `columns`: Set this parameter equal to a Python list with a single value called `amount`.\n",
    "\n",
    "    - `index`: Set this parameter equal to a Python list with the values of `crypto` and `stock/bond`.\n",
    "\n",
    "3. Use the `savings_df` DataFrame to plot a pie chart that visualizes the composition of the member’s portfolio. The y-axis of the pie chart uses `amount`. Be sure to add a title.\n",
    "\n",
    "4. Using Python, determine if the current portfolio has enough to create an emergency fund as part of the member’s financial plan. Ideally, an emergency fund should equal to three times the member’s monthly income. To do this, implement the following steps:\n",
    "\n",
    "    1. Create a variable named `emergency_fund_value`, and set it equal to three times the value of the member’s `monthly_income` of $12000. (You set this earlier in Part 1).\n",
    "\n",
    "    2. Create a series of three if statements to determine if the member’s total portfolio is large enough to fund the emergency portfolio:\n",
    "\n",
    "        1. If the total portfolio value is greater than the emergency fund value, display a message congratulating the member for having enough money in this fund.\n",
    "\n",
    "        2. Else if the total portfolio value is equal to the emergency fund value, display a message congratulating the member on reaching this important financial goal.\n",
    "\n",
    "        3. Else the total portfolio is less than the emergency fund value, so display a message showing how many dollars away the member is from reaching the goal. (Subtract the total portfolio value from the emergency fund value.)\n"
   ]
  },
  {
   "cell_type": "markdown",
   "metadata": {},
   "source": [
    "#### Step 1: Create a Python list named `savings_data` that has two elements. The first element contains the total value of the cryptocurrency wallet. The second element contains the total value of the stock and bond portions of the portfolio."
   ]
  },
  {
   "cell_type": "code",
   "execution_count": 23,
   "metadata": {},
   "outputs": [
    {
     "data": {
      "text/plain": [
       "[36051.465, 62814.3]"
      ]
     },
     "metadata": {},
     "output_type": "display_data"
    }
   ],
   "source": [
    "# Consolidate financial assets data into a Python list\n",
    "savings_data = [total_crypto_wallet, total_stocks_bonds]\n",
    "\n",
    "# Review the Python list savings_data\n",
    "display(savings_data)\n",
    "    "
   ]
  },
  {
   "cell_type": "markdown",
   "metadata": {},
   "source": [
    "#### Step 2: Use the `savings_data` list to create a Pandas DataFrame named `savings_df`, and then display this DataFrame. The function to create the DataFrame should take the following three parameters:\n",
    "\n",
    "- `savings_data`: Use the list that you just created.\n",
    "\n",
    "- `columns`: Set this parameter equal to a Python list with a single value called `amount`.\n",
    "\n",
    "- `index`: Set this parameter equal to a Python list with the values of `crypto` and `stock/bond`.\n"
   ]
  },
  {
   "cell_type": "code",
   "execution_count": 24,
   "metadata": {},
   "outputs": [
    {
     "data": {
      "text/html": [
       "<div>\n",
       "<style scoped>\n",
       "    .dataframe tbody tr th:only-of-type {\n",
       "        vertical-align: middle;\n",
       "    }\n",
       "\n",
       "    .dataframe tbody tr th {\n",
       "        vertical-align: top;\n",
       "    }\n",
       "\n",
       "    .dataframe thead th {\n",
       "        text-align: right;\n",
       "    }\n",
       "</style>\n",
       "<table border=\"1\" class=\"dataframe\">\n",
       "  <thead>\n",
       "    <tr style=\"text-align: right;\">\n",
       "      <th></th>\n",
       "      <th>amount</th>\n",
       "    </tr>\n",
       "  </thead>\n",
       "  <tbody>\n",
       "    <tr>\n",
       "      <th>crypto</th>\n",
       "      <td>36051.465</td>\n",
       "    </tr>\n",
       "    <tr>\n",
       "      <th>stock/bond</th>\n",
       "      <td>62814.300</td>\n",
       "    </tr>\n",
       "  </tbody>\n",
       "</table>\n",
       "</div>"
      ],
      "text/plain": [
       "               amount\n",
       "crypto      36051.465\n",
       "stock/bond  62814.300"
      ]
     },
     "metadata": {},
     "output_type": "display_data"
    }
   ],
   "source": [
    "# Create a Pandas DataFrame called savings_df \n",
    "savings_df = pd.DataFrame(savings_data, columns = ['amount'], index = ['crypto', 'stock/bond'])\n",
    "\n",
    "# Display the savings_df DataFrame\n",
    "display(savings_df)\n"
   ]
  },
  {
   "cell_type": "markdown",
   "metadata": {},
   "source": [
    "#### Step 3: Use the `savings_df` DataFrame to plot a pie chart that visualizes the composition of the member’s portfolio. The y-axis of the pie chart uses `amount`. Be sure to add a title."
   ]
  },
  {
   "cell_type": "code",
   "execution_count": 25,
   "metadata": {},
   "outputs": [
    {
     "data": {
      "text/plain": [
       "<AxesSubplot:title={'center':\"Member's Portfolio - Crypto & Stocks/Bonds\"}, ylabel='amount'>"
      ]
     },
     "execution_count": 25,
     "metadata": {},
     "output_type": "execute_result"
    },
    {
     "data": {
      "image/png": "[encoded data removed]",
      "text/plain": [
       "<Figure size 720x1440 with 1 Axes>"
      ]
     },
     "metadata": {},
     "output_type": "display_data"
    }
   ],
   "source": [
    "# Plot the total value of the member's portfolio (crypto and stock/bond) in a pie chart\n",
    "savings_df.plot(\n",
    "    title = 'Member\\'s Portfolio - Crypto & Stocks/Bonds', \n",
    "    kind = 'pie', \n",
    "    y = 'amount',\n",
    "    figsize = (10,20))\n"
   ]
  },
  {
   "cell_type": "markdown",
   "metadata": {},
   "source": [
    "#### Step 4: Using Python, determine if the current portfolio has enough to create an emergency fund as part of the member’s financial plan. Ideally, an emergency fund should equal to three times the member’s monthly income. To do this, implement the following steps:\n",
    "\n",
    "Step 1. Create a variable named `emergency_fund_value`, and set it equal to three times the value of the member’s `monthly_income` of 12000. (You set this earlier in Part 1).\n",
    "\n",
    "Step 2. Create a series of three if statements to determine if the member’s total portfolio is large enough to fund the emergency portfolio:\n",
    "\n",
    "* If the total portfolio value is greater than the emergency fund value, display a message congratulating the member for having enough money in this fund.\n",
    "\n",
    "* Else if the total portfolio value is equal to the emergency fund value, display a message congratulating the member on reaching this important financial goal.\n",
    "\n",
    "* Else the total portfolio is less than the emergency fund value, so display a message showing how many dollars away the member is from reaching the goal. (Subtract the total portfolio value from the emergency fund value.)\n"
   ]
  },
  {
   "cell_type": "markdown",
   "metadata": {},
   "source": [
    "##### Step 4-1: Create a variable named `emergency_fund_value`, and set it equal to three times the value of the member’s `monthly_income` of 12000. (You set this earlier in Part 1)."
   ]
  },
  {
   "cell_type": "code",
   "execution_count": 26,
   "metadata": {},
   "outputs": [
    {
     "name": "stdout",
     "output_type": "stream",
     "text": [
      "The value of the emergency fund is $36000.00\n"
     ]
    }
   ],
   "source": [
    "# Create a variable named emergency_fund_value\n",
    "emergency_fund_value = 3 * monthly_income\n",
    "\n",
    "print(f\"The value of the emergency fund is ${emergency_fund_value :.2f}\")"
   ]
  },
  {
   "cell_type": "markdown",
   "metadata": {},
   "source": [
    "##### Step 4-2: Create a series of three if statements to determine if the member’s total portfolio is large enough to fund the emergency portfolio:\n",
    "\n",
    "* If the total portfolio value is greater than the emergency fund value, display a message congratulating the member for having enough money in this fund.\n",
    "\n",
    "* Else if the total portfolio value is equal to the emergency fund value, display a message congratulating the member on reaching this important financial goal.\n",
    "\n",
    "* Else the total portfolio is less than the emergency fund value, so display a message showing how many dollars away the member is from reaching the goal. (Subtract the total portfolio value from the emergency fund value.)"
   ]
  },
  {
   "cell_type": "code",
   "execution_count": 27,
   "metadata": {},
   "outputs": [
    {
     "name": "stdout",
     "output_type": "stream",
     "text": [
      "Congratulations!  Your total portfolio exceeds the required amount for an emergency fund.\n"
     ]
    }
   ],
   "source": [
    "# Evaluate the possibility of creating an emergency fund with 3 conditions:\n",
    "# If the total portfolio value is greater than the emergency fund value, \n",
    "# display a message congratulating the member for having enough money in this fund.\n",
    "if (total_portfolio > emergency_fund_value):\n",
    "    print(\"Congratulations!  Your total portfolio exceeds the required amount for an emergency fund.\")\n",
    "\n",
    "# Else if the total portfolio value is equal to the emergency fund value, \n",
    "# display a message congratulating the member on reaching this important financial goal.\n",
    "if (total_portfolio == emergency_fund_value):\n",
    "    print(\"Congratulations!  Your total portfolio matches the required amount for an emergency fund.\")\n",
    "\n",
    "# Else the total portfolio is less than the emergency fund value, so display a message \n",
    "# showing how many dollars away the member is from reaching the goal. (Subtract the \n",
    "# total portfolio value from the emergency fund value.)\n",
    "if (total_portfolio < emergency_fund_value):\n",
    "    required_funds = emergency_fund_value - total_portfolio\n",
    "    print(\"Your total portfolio is less than the required amount for an emergency fund.\")\n",
    "    print(f\"You need {required_funds :.2f} to match the amount required for your emergency fund.\")\n"
   ]
  },
  {
   "cell_type": "markdown",
   "metadata": {},
   "source": [
    "## Part 2: Create a Financial Planner for Retirement"
   ]
  },
  {
   "cell_type": "markdown",
   "metadata": {},
   "source": [
    "### Create the Monte Carlo Simulation\n",
    "\n",
    "In this section, you’ll use the MCForecastTools library to create a Monte Carlo simulation for the member’s savings portfolio. To do this, complete the following steps:\n",
    "\n",
    "1. Make an API call via the Alpaca SDK to get 3 years of historical closing prices for a traditional 60/40 portfolio split: 60% stocks (SPY) and 40% bonds (AGG).\n",
    "\n",
    "2. Run a Monte Carlo simulation of 500 samples and 30 years for the 60/40 portfolio, and then plot the results.The following image shows the overlay line plot resulting from a simulation with these characteristics. However, because a random number generator is used to run each live Monte Carlo simulation, your image will differ slightly from this exact image:\n",
    "\n",
    "![A screenshot depicts the resulting plot.](Images/5-4-monte-carlo-line-plot.png)\n",
    "\n",
    "3. Plot the probability distribution of the Monte Carlo simulation. Plot the probability distribution of the Monte Carlo simulation. The following image shows the histogram plot resulting from a simulation with these characteristics. However, because a random number generator is used to run each live Monte Carlo simulation, your image will differ slightly from this exact image:\n",
    "\n",
    "![A screenshot depicts the histogram plot.](Images/5-4-monte-carlo-histogram.png)\n",
    "\n",
    "4. Generate the summary statistics for the Monte Carlo simulation.\n",
    "\n"
   ]
  },
  {
   "cell_type": "markdown",
   "metadata": {},
   "source": [
    "#### Step 1: Make an API call via the Alpaca SDK to get 3 years of historical closing prices for a traditional 60/40 portfolio split: 60% stocks (SPY) and 40% bonds (AGG)."
   ]
  },
  {
   "cell_type": "code",
   "execution_count": 28,
   "metadata": {},
   "outputs": [],
   "source": [
    "# Set start and end dates of 3 years back from your current date\n",
    "# Alternatively, you can use an end date of 2020-08-07 and work 3 years back from that date \n",
    "start_date = pd.Timestamp('2017-08-07', tz='America/New_York').isoformat()\n",
    "end_date = pd.Timestamp('2020-08-07', tz='America/New_York').isoformat()"
   ]
  },
  {
   "cell_type": "code",
   "execution_count": 29,
   "metadata": {},
   "outputs": [
    {
     "data": {
      "text/html": [
       "<div>\n",
       "<style scoped>\n",
       "    .dataframe tbody tr th:only-of-type {\n",
       "        vertical-align: middle;\n",
       "    }\n",
       "\n",
       "    .dataframe tbody tr th {\n",
       "        vertical-align: top;\n",
       "    }\n",
       "\n",
       "    .dataframe thead tr th {\n",
       "        text-align: left;\n",
       "    }\n",
       "\n",
       "    .dataframe thead tr:last-of-type th {\n",
       "        text-align: right;\n",
       "    }\n",
       "</style>\n",
       "<table border=\"1\" class=\"dataframe\">\n",
       "  <thead>\n",
       "    <tr>\n",
       "      <th></th>\n",
       "      <th colspan=\"7\" halign=\"left\">SPY</th>\n",
       "      <th colspan=\"7\" halign=\"left\">AGG</th>\n",
       "    </tr>\n",
       "    <tr>\n",
       "      <th></th>\n",
       "      <th>open</th>\n",
       "      <th>high</th>\n",
       "      <th>low</th>\n",
       "      <th>close</th>\n",
       "      <th>volume</th>\n",
       "      <th>trade_count</th>\n",
       "      <th>vwap</th>\n",
       "      <th>open</th>\n",
       "      <th>high</th>\n",
       "      <th>low</th>\n",
       "      <th>close</th>\n",
       "      <th>volume</th>\n",
       "      <th>trade_count</th>\n",
       "      <th>vwap</th>\n",
       "    </tr>\n",
       "    <tr>\n",
       "      <th>timestamp</th>\n",
       "      <th></th>\n",
       "      <th></th>\n",
       "      <th></th>\n",
       "      <th></th>\n",
       "      <th></th>\n",
       "      <th></th>\n",
       "      <th></th>\n",
       "      <th></th>\n",
       "      <th></th>\n",
       "      <th></th>\n",
       "      <th></th>\n",
       "      <th></th>\n",
       "      <th></th>\n",
       "      <th></th>\n",
       "    </tr>\n",
       "  </thead>\n",
       "  <tbody>\n",
       "    <tr>\n",
       "      <th>2020-08-03 04:00:00+00:00</th>\n",
       "      <td>328.31</td>\n",
       "      <td>329.62</td>\n",
       "      <td>327.73</td>\n",
       "      <td>328.79</td>\n",
       "      <td>53080454</td>\n",
       "      <td>288008</td>\n",
       "      <td>328.658804</td>\n",
       "      <td>119.37</td>\n",
       "      <td>119.40</td>\n",
       "      <td>119.1903</td>\n",
       "      <td>119.40</td>\n",
       "      <td>13014535</td>\n",
       "      <td>36359</td>\n",
       "      <td>119.282420</td>\n",
       "    </tr>\n",
       "    <tr>\n",
       "      <th>2020-08-04 04:00:00+00:00</th>\n",
       "      <td>327.88</td>\n",
       "      <td>330.06</td>\n",
       "      <td>327.86</td>\n",
       "      <td>330.06</td>\n",
       "      <td>41918004</td>\n",
       "      <td>250900</td>\n",
       "      <td>329.057593</td>\n",
       "      <td>119.42</td>\n",
       "      <td>119.63</td>\n",
       "      <td>119.4200</td>\n",
       "      <td>119.63</td>\n",
       "      <td>10935181</td>\n",
       "      <td>39114</td>\n",
       "      <td>119.541666</td>\n",
       "    </tr>\n",
       "    <tr>\n",
       "      <th>2020-08-05 04:00:00+00:00</th>\n",
       "      <td>331.46</td>\n",
       "      <td>332.39</td>\n",
       "      <td>331.18</td>\n",
       "      <td>332.11</td>\n",
       "      <td>42870955</td>\n",
       "      <td>241416</td>\n",
       "      <td>331.791643</td>\n",
       "      <td>119.39</td>\n",
       "      <td>119.49</td>\n",
       "      <td>119.3100</td>\n",
       "      <td>119.40</td>\n",
       "      <td>17377874</td>\n",
       "      <td>42313</td>\n",
       "      <td>119.387245</td>\n",
       "    </tr>\n",
       "    <tr>\n",
       "      <th>2020-08-06 04:00:00+00:00</th>\n",
       "      <td>331.52</td>\n",
       "      <td>334.46</td>\n",
       "      <td>331.13</td>\n",
       "      <td>334.33</td>\n",
       "      <td>43745653</td>\n",
       "      <td>290039</td>\n",
       "      <td>332.937218</td>\n",
       "      <td>119.62</td>\n",
       "      <td>119.73</td>\n",
       "      <td>119.5300</td>\n",
       "      <td>119.57</td>\n",
       "      <td>4608710</td>\n",
       "      <td>15938</td>\n",
       "      <td>119.604199</td>\n",
       "    </tr>\n",
       "    <tr>\n",
       "      <th>2020-08-07 04:00:00+00:00</th>\n",
       "      <td>333.29</td>\n",
       "      <td>334.88</td>\n",
       "      <td>332.30</td>\n",
       "      <td>334.57</td>\n",
       "      <td>57282821</td>\n",
       "      <td>350100</td>\n",
       "      <td>333.800372</td>\n",
       "      <td>119.66</td>\n",
       "      <td>119.73</td>\n",
       "      <td>119.3950</td>\n",
       "      <td>119.43</td>\n",
       "      <td>5559066</td>\n",
       "      <td>15246</td>\n",
       "      <td>119.475306</td>\n",
       "    </tr>\n",
       "  </tbody>\n",
       "</table>\n",
       "</div>"
      ],
      "text/plain": [
       "                              SPY                                    \\\n",
       "                             open    high     low   close    volume   \n",
       "timestamp                                                             \n",
       "2020-08-03 04:00:00+00:00  328.31  329.62  327.73  328.79  53080454   \n",
       "2020-08-04 04:00:00+00:00  327.88  330.06  327.86  330.06  41918004   \n",
       "2020-08-05 04:00:00+00:00  331.46  332.39  331.18  332.11  42870955   \n",
       "2020-08-06 04:00:00+00:00  331.52  334.46  331.13  334.33  43745653   \n",
       "2020-08-07 04:00:00+00:00  333.29  334.88  332.30  334.57  57282821   \n",
       "\n",
       "                                                      AGG                    \\\n",
       "                          trade_count        vwap    open    high       low   \n",
       "timestamp                                                                     \n",
       "2020-08-03 04:00:00+00:00      288008  328.658804  119.37  119.40  119.1903   \n",
       "2020-08-04 04:00:00+00:00      250900  329.057593  119.42  119.63  119.4200   \n",
       "2020-08-05 04:00:00+00:00      241416  331.791643  119.39  119.49  119.3100   \n",
       "2020-08-06 04:00:00+00:00      290039  332.937218  119.62  119.73  119.5300   \n",
       "2020-08-07 04:00:00+00:00      350100  333.800372  119.66  119.73  119.3950   \n",
       "\n",
       "                                                                     \n",
       "                            close    volume trade_count        vwap  \n",
       "timestamp                                                            \n",
       "2020-08-03 04:00:00+00:00  119.40  13014535       36359  119.282420  \n",
       "2020-08-04 04:00:00+00:00  119.63  10935181       39114  119.541666  \n",
       "2020-08-05 04:00:00+00:00  119.40  17377874       42313  119.387245  \n",
       "2020-08-06 04:00:00+00:00  119.57   4608710       15938  119.604199  \n",
       "2020-08-07 04:00:00+00:00  119.43   5559066       15246  119.475306  "
      ]
     },
     "execution_count": 29,
     "metadata": {},
     "output_type": "execute_result"
    }
   ],
   "source": [
    "# Use the Alpaca get_bars function to make the API call to get the 3 years worth of pricing data\n",
    "# The tickers and timeframe parameters should have been set in Part 1 of this activity \n",
    "# The start and end dates should be updated with the information set above\n",
    "# Remember to add the df property to the end of the call so the response is returned as a DataFrame\n",
    "prices_df = alpaca.get_bars(\n",
    "    tickers,\n",
    "    timeframe,\n",
    "    start = start_date,\n",
    "    end = end_date\n",
    ").df\n",
    "\n",
    "# Reorganize the DataFrame\n",
    "# Separate ticker data\n",
    "SPY = prices_df[prices_df['symbol']=='SPY'].drop('symbol', axis=1)\n",
    "AGG = prices_df[prices_df['symbol']=='AGG'].drop('symbol', axis=1)\n",
    "\n",
    "# Concatenate the ticker DataFrames\n",
    "prices_df = pd.concat([SPY, AGG], axis=1, keys=['SPY','AGG'])\n",
    "\n",
    "# Display both the first and last five rows of the DataFrame\n",
    "prices_df.head()\n",
    "prices_df.tail()\n"
   ]
  },
  {
   "cell_type": "markdown",
   "metadata": {},
   "source": [
    "#### Step 2: Run a Monte Carlo simulation of 500 samples and 30 years for the 60/40 portfolio, and then plot the results."
   ]
  },
  {
   "cell_type": "code",
   "execution_count": 30,
   "metadata": {},
   "outputs": [
    {
     "data": {
      "text/html": [
       "<div>\n",
       "<style scoped>\n",
       "    .dataframe tbody tr th:only-of-type {\n",
       "        vertical-align: middle;\n",
       "    }\n",
       "\n",
       "    .dataframe tbody tr th {\n",
       "        vertical-align: top;\n",
       "    }\n",
       "\n",
       "    .dataframe thead tr th {\n",
       "        text-align: left;\n",
       "    }\n",
       "\n",
       "    .dataframe thead tr:last-of-type th {\n",
       "        text-align: right;\n",
       "    }\n",
       "</style>\n",
       "<table border=\"1\" class=\"dataframe\">\n",
       "  <thead>\n",
       "    <tr>\n",
       "      <th></th>\n",
       "      <th colspan=\"8\" halign=\"left\">SPY</th>\n",
       "      <th colspan=\"8\" halign=\"left\">AGG</th>\n",
       "    </tr>\n",
       "    <tr>\n",
       "      <th></th>\n",
       "      <th>open</th>\n",
       "      <th>high</th>\n",
       "      <th>low</th>\n",
       "      <th>close</th>\n",
       "      <th>volume</th>\n",
       "      <th>trade_count</th>\n",
       "      <th>vwap</th>\n",
       "      <th>daily_return</th>\n",
       "      <th>open</th>\n",
       "      <th>high</th>\n",
       "      <th>low</th>\n",
       "      <th>close</th>\n",
       "      <th>volume</th>\n",
       "      <th>trade_count</th>\n",
       "      <th>vwap</th>\n",
       "      <th>daily_return</th>\n",
       "    </tr>\n",
       "    <tr>\n",
       "      <th>timestamp</th>\n",
       "      <th></th>\n",
       "      <th></th>\n",
       "      <th></th>\n",
       "      <th></th>\n",
       "      <th></th>\n",
       "      <th></th>\n",
       "      <th></th>\n",
       "      <th></th>\n",
       "      <th></th>\n",
       "      <th></th>\n",
       "      <th></th>\n",
       "      <th></th>\n",
       "      <th></th>\n",
       "      <th></th>\n",
       "      <th></th>\n",
       "      <th></th>\n",
       "    </tr>\n",
       "  </thead>\n",
       "  <tbody>\n",
       "    <tr>\n",
       "      <th>2017-08-07 04:00:00+00:00</th>\n",
       "      <td>247.50</td>\n",
       "      <td>247.87</td>\n",
       "      <td>247.37</td>\n",
       "      <td>247.87</td>\n",
       "      <td>31995021</td>\n",
       "      <td>100111</td>\n",
       "      <td>247.668698</td>\n",
       "      <td>NaN</td>\n",
       "      <td>109.69</td>\n",
       "      <td>109.72</td>\n",
       "      <td>109.6066</td>\n",
       "      <td>109.67</td>\n",
       "      <td>2359826</td>\n",
       "      <td>7755</td>\n",
       "      <td>109.674876</td>\n",
       "      <td>NaN</td>\n",
       "    </tr>\n",
       "    <tr>\n",
       "      <th>2017-08-08 04:00:00+00:00</th>\n",
       "      <td>247.49</td>\n",
       "      <td>248.91</td>\n",
       "      <td>246.83</td>\n",
       "      <td>247.26</td>\n",
       "      <td>61719353</td>\n",
       "      <td>192921</td>\n",
       "      <td>247.739709</td>\n",
       "      <td>-0.002461</td>\n",
       "      <td>109.67</td>\n",
       "      <td>109.69</td>\n",
       "      <td>109.5000</td>\n",
       "      <td>109.57</td>\n",
       "      <td>2570876</td>\n",
       "      <td>12663</td>\n",
       "      <td>109.577636</td>\n",
       "      <td>-0.000912</td>\n",
       "    </tr>\n",
       "    <tr>\n",
       "      <th>2017-08-09 04:00:00+00:00</th>\n",
       "      <td>246.46</td>\n",
       "      <td>247.31</td>\n",
       "      <td>246.06</td>\n",
       "      <td>247.25</td>\n",
       "      <td>62632619</td>\n",
       "      <td>223650</td>\n",
       "      <td>246.791421</td>\n",
       "      <td>-0.000040</td>\n",
       "      <td>109.87</td>\n",
       "      <td>109.87</td>\n",
       "      <td>109.6600</td>\n",
       "      <td>109.67</td>\n",
       "      <td>2308932</td>\n",
       "      <td>11031</td>\n",
       "      <td>109.771749</td>\n",
       "      <td>0.000913</td>\n",
       "    </tr>\n",
       "    <tr>\n",
       "      <th>2017-08-10 04:00:00+00:00</th>\n",
       "      <td>246.30</td>\n",
       "      <td>246.44</td>\n",
       "      <td>243.70</td>\n",
       "      <td>243.76</td>\n",
       "      <td>120418270</td>\n",
       "      <td>424321</td>\n",
       "      <td>245.027847</td>\n",
       "      <td>-0.014115</td>\n",
       "      <td>109.70</td>\n",
       "      <td>109.85</td>\n",
       "      <td>109.6700</td>\n",
       "      <td>109.78</td>\n",
       "      <td>2004163</td>\n",
       "      <td>12437</td>\n",
       "      <td>109.776611</td>\n",
       "      <td>0.001003</td>\n",
       "    </tr>\n",
       "    <tr>\n",
       "      <th>2017-08-11 04:00:00+00:00</th>\n",
       "      <td>244.00</td>\n",
       "      <td>244.80</td>\n",
       "      <td>243.75</td>\n",
       "      <td>244.12</td>\n",
       "      <td>74869947</td>\n",
       "      <td>278786</td>\n",
       "      <td>244.222867</td>\n",
       "      <td>0.001477</td>\n",
       "      <td>109.75</td>\n",
       "      <td>109.94</td>\n",
       "      <td>109.6800</td>\n",
       "      <td>109.87</td>\n",
       "      <td>1913253</td>\n",
       "      <td>10113</td>\n",
       "      <td>109.860974</td>\n",
       "      <td>0.000820</td>\n",
       "    </tr>\n",
       "  </tbody>\n",
       "</table>\n",
       "</div>"
      ],
      "text/plain": [
       "                              SPY                                     \\\n",
       "                             open    high     low   close     volume   \n",
       "timestamp                                                              \n",
       "2017-08-07 04:00:00+00:00  247.50  247.87  247.37  247.87   31995021   \n",
       "2017-08-08 04:00:00+00:00  247.49  248.91  246.83  247.26   61719353   \n",
       "2017-08-09 04:00:00+00:00  246.46  247.31  246.06  247.25   62632619   \n",
       "2017-08-10 04:00:00+00:00  246.30  246.44  243.70  243.76  120418270   \n",
       "2017-08-11 04:00:00+00:00  244.00  244.80  243.75  244.12   74869947   \n",
       "\n",
       "                                                                   AGG  \\\n",
       "                          trade_count        vwap daily_return    open   \n",
       "timestamp                                                                \n",
       "2017-08-07 04:00:00+00:00      100111  247.668698          NaN  109.69   \n",
       "2017-08-08 04:00:00+00:00      192921  247.739709    -0.002461  109.67   \n",
       "2017-08-09 04:00:00+00:00      223650  246.791421    -0.000040  109.87   \n",
       "2017-08-10 04:00:00+00:00      424321  245.027847    -0.014115  109.70   \n",
       "2017-08-11 04:00:00+00:00      278786  244.222867     0.001477  109.75   \n",
       "\n",
       "                                                                          \\\n",
       "                             high       low   close   volume trade_count   \n",
       "timestamp                                                                  \n",
       "2017-08-07 04:00:00+00:00  109.72  109.6066  109.67  2359826        7755   \n",
       "2017-08-08 04:00:00+00:00  109.69  109.5000  109.57  2570876       12663   \n",
       "2017-08-09 04:00:00+00:00  109.87  109.6600  109.67  2308932       11031   \n",
       "2017-08-10 04:00:00+00:00  109.85  109.6700  109.78  2004163       12437   \n",
       "2017-08-11 04:00:00+00:00  109.94  109.6800  109.87  1913253       10113   \n",
       "\n",
       "                                                    \n",
       "                                 vwap daily_return  \n",
       "timestamp                                           \n",
       "2017-08-07 04:00:00+00:00  109.674876          NaN  \n",
       "2017-08-08 04:00:00+00:00  109.577636    -0.000912  \n",
       "2017-08-09 04:00:00+00:00  109.771749     0.000913  \n",
       "2017-08-10 04:00:00+00:00  109.776611     0.001003  \n",
       "2017-08-11 04:00:00+00:00  109.860974     0.000820  "
      ]
     },
     "execution_count": 30,
     "metadata": {},
     "output_type": "execute_result"
    }
   ],
   "source": [
    "# Configure the Monte Carlo simulation to forecast 30 years cumulative returns\n",
    "# The weights should be split 40% to AGG and 60% to SPY.\n",
    "# Run 500 samples.\n",
    "MC_30year = MCSimulation(\n",
    "    portfolio_data = prices_df,\n",
    "    weights = [.60, 0.40],\n",
    "    num_simulation = 500,\n",
    "    num_trading_days = 252 * 30)\n",
    "\n",
    "# Review the simulation input data\n",
    "MC_30year.portfolio_data.head()\n"
   ]
  },
  {
   "cell_type": "code",
   "execution_count": 31,
   "metadata": {
    "scrolled": true,
    "tags": []
   },
   "outputs": [
    {
     "name": "stdout",
     "output_type": "stream",
     "text": [
      "Running Monte Carlo simulation number 0.\n",
      "Running Monte Carlo simulation number 10.\n",
      "Running Monte Carlo simulation number 20.\n",
      "Running Monte Carlo simulation number 30.\n",
      "Running Monte Carlo simulation number 40.\n",
      "Running Monte Carlo simulation number 50.\n",
      "Running Monte Carlo simulation number 60.\n",
      "Running Monte Carlo simulation number 70.\n",
      "Running Monte Carlo simulation number 80.\n",
      "Running Monte Carlo simulation number 90.\n",
      "Running Monte Carlo simulation number 100.\n"
     ]
    },
    {
     "name": "stderr",
     "output_type": "stream",
     "text": [
      "/Users/quinnwong/Dev/github/UCB_FintechBootcamp/modules/5_ModuleChallenge/FinancialPlanningTool/MCForecastTools.py:117: PerformanceWarning: DataFrame is highly fragmented.  This is usually the result of calling `frame.insert` many times, which has poor performance.  Consider joining all columns at once using pd.concat(axis=1) instead.  To get a de-fragmented frame, use `newframe = frame.copy()`\n",
      "  portfolio_cumulative_returns[n] = (1 + sim_df.fillna(0)).cumprod()\n"
     ]
    },
    {
     "name": "stdout",
     "output_type": "stream",
     "text": [
      "Running Monte Carlo simulation number 110.\n",
      "Running Monte Carlo simulation number 120.\n",
      "Running Monte Carlo simulation number 130.\n",
      "Running Monte Carlo simulation number 140.\n",
      "Running Monte Carlo simulation number 150.\n",
      "Running Monte Carlo simulation number 160.\n",
      "Running Monte Carlo simulation number 170.\n",
      "Running Monte Carlo simulation number 180.\n",
      "Running Monte Carlo simulation number 190.\n",
      "Running Monte Carlo simulation number 200.\n",
      "Running Monte Carlo simulation number 210.\n",
      "Running Monte Carlo simulation number 220.\n",
      "Running Monte Carlo simulation number 230.\n",
      "Running Monte Carlo simulation number 240.\n",
      "Running Monte Carlo simulation number 250.\n",
      "Running Monte Carlo simulation number 260.\n",
      "Running Monte Carlo simulation number 270.\n",
      "Running Monte Carlo simulation number 280.\n",
      "Running Monte Carlo simulation number 290.\n",
      "Running Monte Carlo simulation number 300.\n",
      "Running Monte Carlo simulation number 310.\n",
      "Running Monte Carlo simulation number 320.\n",
      "Running Monte Carlo simulation number 330.\n",
      "Running Monte Carlo simulation number 340.\n",
      "Running Monte Carlo simulation number 350.\n",
      "Running Monte Carlo simulation number 360.\n",
      "Running Monte Carlo simulation number 370.\n",
      "Running Monte Carlo simulation number 380.\n",
      "Running Monte Carlo simulation number 390.\n",
      "Running Monte Carlo simulation number 400.\n",
      "Running Monte Carlo simulation number 410.\n",
      "Running Monte Carlo simulation number 420.\n",
      "Running Monte Carlo simulation number 430.\n",
      "Running Monte Carlo simulation number 440.\n",
      "Running Monte Carlo simulation number 450.\n",
      "Running Monte Carlo simulation number 460.\n",
      "Running Monte Carlo simulation number 470.\n",
      "Running Monte Carlo simulation number 480.\n",
      "Running Monte Carlo simulation number 490.\n"
     ]
    },
    {
     "data": {
      "text/html": [
       "<div>\n",
       "<style scoped>\n",
       "    .dataframe tbody tr th:only-of-type {\n",
       "        vertical-align: middle;\n",
       "    }\n",
       "\n",
       "    .dataframe tbody tr th {\n",
       "        vertical-align: top;\n",
       "    }\n",
       "\n",
       "    .dataframe thead th {\n",
       "        text-align: right;\n",
       "    }\n",
       "</style>\n",
       "<table border=\"1\" class=\"dataframe\">\n",
       "  <thead>\n",
       "    <tr style=\"text-align: right;\">\n",
       "      <th></th>\n",
       "      <th>0</th>\n",
       "      <th>1</th>\n",
       "      <th>2</th>\n",
       "      <th>3</th>\n",
       "      <th>4</th>\n",
       "      <th>5</th>\n",
       "      <th>6</th>\n",
       "      <th>7</th>\n",
       "      <th>8</th>\n",
       "      <th>9</th>\n",
       "      <th>...</th>\n",
       "      <th>490</th>\n",
       "      <th>491</th>\n",
       "      <th>492</th>\n",
       "      <th>493</th>\n",
       "      <th>494</th>\n",
       "      <th>495</th>\n",
       "      <th>496</th>\n",
       "      <th>497</th>\n",
       "      <th>498</th>\n",
       "      <th>499</th>\n",
       "    </tr>\n",
       "  </thead>\n",
       "  <tbody>\n",
       "    <tr>\n",
       "      <th>0</th>\n",
       "      <td>1.000000</td>\n",
       "      <td>1.000000</td>\n",
       "      <td>1.000000</td>\n",
       "      <td>1.000000</td>\n",
       "      <td>1.000000</td>\n",
       "      <td>1.000000</td>\n",
       "      <td>1.000000</td>\n",
       "      <td>1.000000</td>\n",
       "      <td>1.000000</td>\n",
       "      <td>1.000000</td>\n",
       "      <td>...</td>\n",
       "      <td>1.000000</td>\n",
       "      <td>1.000000</td>\n",
       "      <td>1.000000</td>\n",
       "      <td>1.000000</td>\n",
       "      <td>1.000000</td>\n",
       "      <td>1.000000</td>\n",
       "      <td>1.000000</td>\n",
       "      <td>1.000000</td>\n",
       "      <td>1.000000</td>\n",
       "      <td>1.000000</td>\n",
       "    </tr>\n",
       "    <tr>\n",
       "      <th>1</th>\n",
       "      <td>0.994948</td>\n",
       "      <td>0.999686</td>\n",
       "      <td>0.996376</td>\n",
       "      <td>0.993610</td>\n",
       "      <td>1.010434</td>\n",
       "      <td>0.995590</td>\n",
       "      <td>0.990369</td>\n",
       "      <td>0.996441</td>\n",
       "      <td>0.993748</td>\n",
       "      <td>1.001034</td>\n",
       "      <td>...</td>\n",
       "      <td>0.989345</td>\n",
       "      <td>1.005780</td>\n",
       "      <td>1.009528</td>\n",
       "      <td>0.995939</td>\n",
       "      <td>0.991508</td>\n",
       "      <td>1.010008</td>\n",
       "      <td>0.995787</td>\n",
       "      <td>0.994609</td>\n",
       "      <td>1.012290</td>\n",
       "      <td>1.009702</td>\n",
       "    </tr>\n",
       "    <tr>\n",
       "      <th>2</th>\n",
       "      <td>1.006818</td>\n",
       "      <td>1.003119</td>\n",
       "      <td>1.008263</td>\n",
       "      <td>0.983529</td>\n",
       "      <td>1.018254</td>\n",
       "      <td>1.002030</td>\n",
       "      <td>0.991255</td>\n",
       "      <td>1.002152</td>\n",
       "      <td>1.003752</td>\n",
       "      <td>1.003632</td>\n",
       "      <td>...</td>\n",
       "      <td>0.973063</td>\n",
       "      <td>1.015889</td>\n",
       "      <td>1.008181</td>\n",
       "      <td>0.977703</td>\n",
       "      <td>1.003878</td>\n",
       "      <td>1.020191</td>\n",
       "      <td>0.992553</td>\n",
       "      <td>0.993986</td>\n",
       "      <td>1.005408</td>\n",
       "      <td>1.001847</td>\n",
       "    </tr>\n",
       "    <tr>\n",
       "      <th>3</th>\n",
       "      <td>1.013117</td>\n",
       "      <td>0.998987</td>\n",
       "      <td>1.014507</td>\n",
       "      <td>0.985236</td>\n",
       "      <td>1.007974</td>\n",
       "      <td>1.000720</td>\n",
       "      <td>0.992260</td>\n",
       "      <td>1.014807</td>\n",
       "      <td>1.007517</td>\n",
       "      <td>1.017375</td>\n",
       "      <td>...</td>\n",
       "      <td>0.981008</td>\n",
       "      <td>1.002000</td>\n",
       "      <td>1.012422</td>\n",
       "      <td>0.998070</td>\n",
       "      <td>1.005757</td>\n",
       "      <td>1.016886</td>\n",
       "      <td>0.997549</td>\n",
       "      <td>0.990146</td>\n",
       "      <td>0.997240</td>\n",
       "      <td>1.001608</td>\n",
       "    </tr>\n",
       "    <tr>\n",
       "      <th>4</th>\n",
       "      <td>1.004181</td>\n",
       "      <td>1.002793</td>\n",
       "      <td>0.989719</td>\n",
       "      <td>0.981865</td>\n",
       "      <td>1.006340</td>\n",
       "      <td>1.008616</td>\n",
       "      <td>0.981489</td>\n",
       "      <td>1.018897</td>\n",
       "      <td>1.007961</td>\n",
       "      <td>1.014660</td>\n",
       "      <td>...</td>\n",
       "      <td>0.984018</td>\n",
       "      <td>1.010590</td>\n",
       "      <td>1.012929</td>\n",
       "      <td>0.989790</td>\n",
       "      <td>1.012806</td>\n",
       "      <td>1.020240</td>\n",
       "      <td>1.001257</td>\n",
       "      <td>0.971425</td>\n",
       "      <td>1.010775</td>\n",
       "      <td>0.984068</td>\n",
       "    </tr>\n",
       "    <tr>\n",
       "      <th>...</th>\n",
       "      <td>...</td>\n",
       "      <td>...</td>\n",
       "      <td>...</td>\n",
       "      <td>...</td>\n",
       "      <td>...</td>\n",
       "      <td>...</td>\n",
       "      <td>...</td>\n",
       "      <td>...</td>\n",
       "      <td>...</td>\n",
       "      <td>...</td>\n",
       "      <td>...</td>\n",
       "      <td>...</td>\n",
       "      <td>...</td>\n",
       "      <td>...</td>\n",
       "      <td>...</td>\n",
       "      <td>...</td>\n",
       "      <td>...</td>\n",
       "      <td>...</td>\n",
       "      <td>...</td>\n",
       "      <td>...</td>\n",
       "      <td>...</td>\n",
       "    </tr>\n",
       "    <tr>\n",
       "      <th>7556</th>\n",
       "      <td>4.179932</td>\n",
       "      <td>11.578997</td>\n",
       "      <td>14.109641</td>\n",
       "      <td>11.987161</td>\n",
       "      <td>23.220598</td>\n",
       "      <td>16.047798</td>\n",
       "      <td>7.403694</td>\n",
       "      <td>2.632258</td>\n",
       "      <td>2.679776</td>\n",
       "      <td>3.612643</td>\n",
       "      <td>...</td>\n",
       "      <td>5.545585</td>\n",
       "      <td>3.788088</td>\n",
       "      <td>14.749009</td>\n",
       "      <td>3.251005</td>\n",
       "      <td>7.236619</td>\n",
       "      <td>9.804287</td>\n",
       "      <td>29.722364</td>\n",
       "      <td>10.611894</td>\n",
       "      <td>4.204609</td>\n",
       "      <td>8.891652</td>\n",
       "    </tr>\n",
       "    <tr>\n",
       "      <th>7557</th>\n",
       "      <td>4.185048</td>\n",
       "      <td>11.628014</td>\n",
       "      <td>14.135705</td>\n",
       "      <td>11.910097</td>\n",
       "      <td>22.988231</td>\n",
       "      <td>16.087711</td>\n",
       "      <td>7.333203</td>\n",
       "      <td>2.664653</td>\n",
       "      <td>2.667843</td>\n",
       "      <td>3.601358</td>\n",
       "      <td>...</td>\n",
       "      <td>5.588759</td>\n",
       "      <td>3.746425</td>\n",
       "      <td>14.541758</td>\n",
       "      <td>3.279561</td>\n",
       "      <td>7.175210</td>\n",
       "      <td>9.727728</td>\n",
       "      <td>30.032881</td>\n",
       "      <td>10.593955</td>\n",
       "      <td>4.137762</td>\n",
       "      <td>8.846899</td>\n",
       "    </tr>\n",
       "    <tr>\n",
       "      <th>7558</th>\n",
       "      <td>4.242541</td>\n",
       "      <td>11.672489</td>\n",
       "      <td>14.224012</td>\n",
       "      <td>11.994200</td>\n",
       "      <td>23.043698</td>\n",
       "      <td>15.878659</td>\n",
       "      <td>7.308143</td>\n",
       "      <td>2.660819</td>\n",
       "      <td>2.682161</td>\n",
       "      <td>3.617964</td>\n",
       "      <td>...</td>\n",
       "      <td>5.577105</td>\n",
       "      <td>3.749088</td>\n",
       "      <td>14.396733</td>\n",
       "      <td>3.272166</td>\n",
       "      <td>7.187762</td>\n",
       "      <td>9.740028</td>\n",
       "      <td>30.068108</td>\n",
       "      <td>10.671791</td>\n",
       "      <td>4.176124</td>\n",
       "      <td>8.869048</td>\n",
       "    </tr>\n",
       "    <tr>\n",
       "      <th>7559</th>\n",
       "      <td>4.257059</td>\n",
       "      <td>11.658571</td>\n",
       "      <td>14.092536</td>\n",
       "      <td>12.145192</td>\n",
       "      <td>23.260039</td>\n",
       "      <td>15.739684</td>\n",
       "      <td>7.348001</td>\n",
       "      <td>2.649408</td>\n",
       "      <td>2.681068</td>\n",
       "      <td>3.575493</td>\n",
       "      <td>...</td>\n",
       "      <td>5.540174</td>\n",
       "      <td>3.742501</td>\n",
       "      <td>14.409990</td>\n",
       "      <td>3.322199</td>\n",
       "      <td>7.208712</td>\n",
       "      <td>9.673936</td>\n",
       "      <td>30.211431</td>\n",
       "      <td>10.691314</td>\n",
       "      <td>4.196072</td>\n",
       "      <td>8.778357</td>\n",
       "    </tr>\n",
       "    <tr>\n",
       "      <th>7560</th>\n",
       "      <td>4.326373</td>\n",
       "      <td>11.762572</td>\n",
       "      <td>14.219072</td>\n",
       "      <td>12.023870</td>\n",
       "      <td>23.786218</td>\n",
       "      <td>15.828294</td>\n",
       "      <td>7.353307</td>\n",
       "      <td>2.622176</td>\n",
       "      <td>2.696101</td>\n",
       "      <td>3.594343</td>\n",
       "      <td>...</td>\n",
       "      <td>5.513124</td>\n",
       "      <td>3.733420</td>\n",
       "      <td>14.375253</td>\n",
       "      <td>3.349788</td>\n",
       "      <td>7.101114</td>\n",
       "      <td>9.640760</td>\n",
       "      <td>30.423800</td>\n",
       "      <td>10.703914</td>\n",
       "      <td>4.198642</td>\n",
       "      <td>8.799547</td>\n",
       "    </tr>\n",
       "  </tbody>\n",
       "</table>\n",
       "<p>7561 rows × 500 columns</p>\n",
       "</div>"
      ],
      "text/plain": [
       "           0          1          2          3          4          5    \\\n",
       "0     1.000000   1.000000   1.000000   1.000000   1.000000   1.000000   \n",
       "1     0.994948   0.999686   0.996376   0.993610   1.010434   0.995590   \n",
       "2     1.006818   1.003119   1.008263   0.983529   1.018254   1.002030   \n",
       "3     1.013117   0.998987   1.014507   0.985236   1.007974   1.000720   \n",
       "4     1.004181   1.002793   0.989719   0.981865   1.006340   1.008616   \n",
       "...        ...        ...        ...        ...        ...        ...   \n",
       "7556  4.179932  11.578997  14.109641  11.987161  23.220598  16.047798   \n",
       "7557  4.185048  11.628014  14.135705  11.910097  22.988231  16.087711   \n",
       "7558  4.242541  11.672489  14.224012  11.994200  23.043698  15.878659   \n",
       "7559  4.257059  11.658571  14.092536  12.145192  23.260039  15.739684   \n",
       "7560  4.326373  11.762572  14.219072  12.023870  23.786218  15.828294   \n",
       "\n",
       "           6         7         8         9    ...       490       491  \\\n",
       "0     1.000000  1.000000  1.000000  1.000000  ...  1.000000  1.000000   \n",
       "1     0.990369  0.996441  0.993748  1.001034  ...  0.989345  1.005780   \n",
       "2     0.991255  1.002152  1.003752  1.003632  ...  0.973063  1.015889   \n",
       "3     0.992260  1.014807  1.007517  1.017375  ...  0.981008  1.002000   \n",
       "4     0.981489  1.018897  1.007961  1.014660  ...  0.984018  1.010590   \n",
       "...        ...       ...       ...       ...  ...       ...       ...   \n",
       "7556  7.403694  2.632258  2.679776  3.612643  ...  5.545585  3.788088   \n",
       "7557  7.333203  2.664653  2.667843  3.601358  ...  5.588759  3.746425   \n",
       "7558  7.308143  2.660819  2.682161  3.617964  ...  5.577105  3.749088   \n",
       "7559  7.348001  2.649408  2.681068  3.575493  ...  5.540174  3.742501   \n",
       "7560  7.353307  2.622176  2.696101  3.594343  ...  5.513124  3.733420   \n",
       "\n",
       "            492       493       494       495        496        497       498  \\\n",
       "0      1.000000  1.000000  1.000000  1.000000   1.000000   1.000000  1.000000   \n",
       "1      1.009528  0.995939  0.991508  1.010008   0.995787   0.994609  1.012290   \n",
       "2      1.008181  0.977703  1.003878  1.020191   0.992553   0.993986  1.005408   \n",
       "3      1.012422  0.998070  1.005757  1.016886   0.997549   0.990146  0.997240   \n",
       "4      1.012929  0.989790  1.012806  1.020240   1.001257   0.971425  1.010775   \n",
       "...         ...       ...       ...       ...        ...        ...       ...   \n",
       "7556  14.749009  3.251005  7.236619  9.804287  29.722364  10.611894  4.204609   \n",
       "7557  14.541758  3.279561  7.175210  9.727728  30.032881  10.593955  4.137762   \n",
       "7558  14.396733  3.272166  7.187762  9.740028  30.068108  10.671791  4.176124   \n",
       "7559  14.409990  3.322199  7.208712  9.673936  30.211431  10.691314  4.196072   \n",
       "7560  14.375253  3.349788  7.101114  9.640760  30.423800  10.703914  4.198642   \n",
       "\n",
       "           499  \n",
       "0     1.000000  \n",
       "1     1.009702  \n",
       "2     1.001847  \n",
       "3     1.001608  \n",
       "4     0.984068  \n",
       "...        ...  \n",
       "7556  8.891652  \n",
       "7557  8.846899  \n",
       "7558  8.869048  \n",
       "7559  8.778357  \n",
       "7560  8.799547  \n",
       "\n",
       "[7561 rows x 500 columns]"
      ]
     },
     "execution_count": 31,
     "metadata": {},
     "output_type": "execute_result"
    }
   ],
   "source": [
    "# Run the Monte Carlo simulation to forecast 30 years cumulative returns\n",
    "MC_30year.calc_cumulative_return()\n"
   ]
  },
  {
   "cell_type": "code",
   "execution_count": 32,
   "metadata": {},
   "outputs": [
    {
     "data": {
      "text/plain": [
       "<AxesSubplot:title={'center':'500 Simulations of Cumulative Portfolio Return Trajectories Over the Next 7560 Trading Days.'}>"
      ]
     },
     "execution_count": 32,
     "metadata": {},
     "output_type": "execute_result"
    },
    {
     "data": {
      "image/png": "[encoded data removed]",
      "text/plain": [
       "<Figure size 432x288 with 1 Axes>"
      ]
     },
     "metadata": {
      "needs_background": "light"
     },
     "output_type": "display_data"
    }
   ],
   "source": [
    "# Visualize the 30-year Monte Carlo simulation by creating an\n",
    "# overlay line plot\n",
    "MC_30year.plot_simulation()\n"
   ]
  },
  {
   "cell_type": "markdown",
   "metadata": {},
   "source": [
    "#### Step 3: Plot the probability distribution of the Monte Carlo simulation."
   ]
  },
  {
   "cell_type": "code",
   "execution_count": 33,
   "metadata": {},
   "outputs": [
    {
     "data": {
      "text/plain": [
       "<AxesSubplot:title={'center':'Distribution of Final Cumuluative Returns Across All 500 Simulations'}, ylabel='Frequency'>"
      ]
     },
     "execution_count": 33,
     "metadata": {},
     "output_type": "execute_result"
    },
    {
     "data": {
      "image/png": "[encoded data removed]",
      "text/plain": [
       "<Figure size 432x288 with 1 Axes>"
      ]
     },
     "metadata": {
      "needs_background": "light"
     },
     "output_type": "display_data"
    }
   ],
   "source": [
    "# Visualize the probability distribution of the 30-year Monte Carlo simulation \n",
    "# by plotting a histogram\n",
    "MC_30year.plot_distribution()\n"
   ]
  },
  {
   "cell_type": "markdown",
   "metadata": {},
   "source": [
    "#### Step 4: Generate the summary statistics for the Monte Carlo simulation."
   ]
  },
  {
   "cell_type": "code",
   "execution_count": 42,
   "metadata": {},
   "outputs": [
    {
     "data": {
      "text/plain": [
       "count           500.000000\n",
       "mean             13.257796\n",
       "std              10.407259\n",
       "min               1.224174\n",
       "25%               6.080563\n",
       "50%              10.213236\n",
       "75%              17.032360\n",
       "max              75.793365\n",
       "95% CI Lower      2.125117\n",
       "95% CI Upper     40.241149\n",
       "Name: 7560, dtype: float64"
      ]
     },
     "metadata": {},
     "output_type": "display_data"
    }
   ],
   "source": [
    "# Generate summary statistics from the 30-year Monte Carlo simulation results\n",
    "# Save the results as a variable\n",
    "MC_summary_statistics = MC_30year.summarize_cumulative_return()\n",
    "\n",
    "\n",
    "# Review the 30-year Monte Carlo summary statistics\n",
    "display(MC_summary_statistics)"
   ]
  },
  {
   "cell_type": "markdown",
   "metadata": {},
   "source": [
    "### Analyze the Retirement Portfolio Forecasts\n",
    "\n",
    "Using the current value of only the stock and bond portion of the member's portfolio and the summary statistics that you generated from the Monte Carlo simulation, answer the following question in your Jupyter notebook:\n",
    "\n",
    "-  What are the lower and upper bounds for the expected value of the portfolio with a 95% confidence interval?\n"
   ]
  },
  {
   "cell_type": "code",
   "execution_count": 43,
   "metadata": {},
   "outputs": [
    {
     "name": "stdout",
     "output_type": "stream",
     "text": [
      "The current balance of the stock and bond portion of the members portfolio is $62814.30.\n"
     ]
    }
   ],
   "source": [
    "# Print the current balance of the stock and bond portion of the members portfolio\n",
    "print(f\"The current balance of the stock and bond portion of the members portfolio is ${total_stocks_bonds :.2f}.\")\n"
   ]
  },
  {
   "cell_type": "code",
   "execution_count": 44,
   "metadata": {},
   "outputs": [
    {
     "name": "stdout",
     "output_type": "stream",
     "text": [
      "There is a 95% chance that an initial investment of $62814.3 in the portfolio over the next 30 years will end within in the range of $ 133487.71 and $ 2527719.63.\n"
     ]
    }
   ],
   "source": [
    "# Use the lower and upper `95%` confidence intervals to calculate the range of the possible outcomes for the current stock/bond portfolio\n",
    "ci_lower_thirty_cumulative_return = MC_summary_statistics[8] * total_stocks_bonds\n",
    "ci_upper_thirty_cumulative_return = MC_summary_statistics[9] * total_stocks_bonds\n",
    "\n",
    "# Print the result of your calculations\n",
    "print(f\"There is a 95% chance that an initial investment of ${total_stocks_bonds} in the portfolio\"\n",
    "    f\" over the next 30 years will end within in the range of\"\n",
    "    f\" ${ci_lower_thirty_cumulative_return: .2f} and ${ci_upper_thirty_cumulative_return: .2f}.\")\n"
   ]
  },
  {
   "cell_type": "markdown",
   "metadata": {},
   "source": [
    "### Forecast Cumulative Returns in 10 Years\n",
    "\n",
    "The CTO of the credit union is impressed with your work on these planning tools but wonders if 30 years is a long time to wait until retirement. So, your next task is to adjust the retirement portfolio and run a new Monte Carlo simulation to find out if the changes will allow members to retire earlier.\n",
    "\n",
    "For this new Monte Carlo simulation, do the following: \n",
    "\n",
    "- Forecast the cumulative returns for 10 years from now. Because of the shortened investment horizon (30 years to 10 years), the portfolio needs to invest more heavily in the riskier asset&mdash;that is, stock&mdash;to help accumulate wealth for retirement. \n",
    "\n",
    "- Adjust the weights of the retirement portfolio so that the composition for the Monte Carlo simulation consists of 20% bonds and 80% stocks. \n",
    "\n",
    "- Run the simulation over 500 samples, and use the same data that the API call to Alpaca generated.\n",
    "\n",
    "- Based on the new Monte Carlo simulation, answer the following questions in your Jupyter notebook:\n",
    "\n",
    "    - Using the current value of only the stock and bond portion of the member's portfolio and the summary statistics that you generated from the new Monte Carlo simulation, what are the lower and upper bounds for the expected value of the portfolio (with the new weights) with a 95% confidence interval?\n",
    "\n",
    "    - Will weighting the portfolio more heavily toward stocks allow the credit union members to retire after only 10 years?\n"
   ]
  },
  {
   "cell_type": "code",
   "execution_count": 45,
   "metadata": {},
   "outputs": [
    {
     "data": {
      "text/html": [
       "<div>\n",
       "<style scoped>\n",
       "    .dataframe tbody tr th:only-of-type {\n",
       "        vertical-align: middle;\n",
       "    }\n",
       "\n",
       "    .dataframe tbody tr th {\n",
       "        vertical-align: top;\n",
       "    }\n",
       "\n",
       "    .dataframe thead tr th {\n",
       "        text-align: left;\n",
       "    }\n",
       "\n",
       "    .dataframe thead tr:last-of-type th {\n",
       "        text-align: right;\n",
       "    }\n",
       "</style>\n",
       "<table border=\"1\" class=\"dataframe\">\n",
       "  <thead>\n",
       "    <tr>\n",
       "      <th></th>\n",
       "      <th colspan=\"8\" halign=\"left\">SPY</th>\n",
       "      <th colspan=\"8\" halign=\"left\">AGG</th>\n",
       "    </tr>\n",
       "    <tr>\n",
       "      <th></th>\n",
       "      <th>open</th>\n",
       "      <th>high</th>\n",
       "      <th>low</th>\n",
       "      <th>close</th>\n",
       "      <th>volume</th>\n",
       "      <th>trade_count</th>\n",
       "      <th>vwap</th>\n",
       "      <th>daily_return</th>\n",
       "      <th>open</th>\n",
       "      <th>high</th>\n",
       "      <th>low</th>\n",
       "      <th>close</th>\n",
       "      <th>volume</th>\n",
       "      <th>trade_count</th>\n",
       "      <th>vwap</th>\n",
       "      <th>daily_return</th>\n",
       "    </tr>\n",
       "    <tr>\n",
       "      <th>timestamp</th>\n",
       "      <th></th>\n",
       "      <th></th>\n",
       "      <th></th>\n",
       "      <th></th>\n",
       "      <th></th>\n",
       "      <th></th>\n",
       "      <th></th>\n",
       "      <th></th>\n",
       "      <th></th>\n",
       "      <th></th>\n",
       "      <th></th>\n",
       "      <th></th>\n",
       "      <th></th>\n",
       "      <th></th>\n",
       "      <th></th>\n",
       "      <th></th>\n",
       "    </tr>\n",
       "  </thead>\n",
       "  <tbody>\n",
       "    <tr>\n",
       "      <th>2017-08-07 04:00:00+00:00</th>\n",
       "      <td>247.50</td>\n",
       "      <td>247.87</td>\n",
       "      <td>247.37</td>\n",
       "      <td>247.87</td>\n",
       "      <td>31995021</td>\n",
       "      <td>100111</td>\n",
       "      <td>247.668698</td>\n",
       "      <td>NaN</td>\n",
       "      <td>109.69</td>\n",
       "      <td>109.72</td>\n",
       "      <td>109.6066</td>\n",
       "      <td>109.67</td>\n",
       "      <td>2359826</td>\n",
       "      <td>7755</td>\n",
       "      <td>109.674876</td>\n",
       "      <td>NaN</td>\n",
       "    </tr>\n",
       "    <tr>\n",
       "      <th>2017-08-08 04:00:00+00:00</th>\n",
       "      <td>247.49</td>\n",
       "      <td>248.91</td>\n",
       "      <td>246.83</td>\n",
       "      <td>247.26</td>\n",
       "      <td>61719353</td>\n",
       "      <td>192921</td>\n",
       "      <td>247.739709</td>\n",
       "      <td>-0.002461</td>\n",
       "      <td>109.67</td>\n",
       "      <td>109.69</td>\n",
       "      <td>109.5000</td>\n",
       "      <td>109.57</td>\n",
       "      <td>2570876</td>\n",
       "      <td>12663</td>\n",
       "      <td>109.577636</td>\n",
       "      <td>-0.000912</td>\n",
       "    </tr>\n",
       "    <tr>\n",
       "      <th>2017-08-09 04:00:00+00:00</th>\n",
       "      <td>246.46</td>\n",
       "      <td>247.31</td>\n",
       "      <td>246.06</td>\n",
       "      <td>247.25</td>\n",
       "      <td>62632619</td>\n",
       "      <td>223650</td>\n",
       "      <td>246.791421</td>\n",
       "      <td>-0.000040</td>\n",
       "      <td>109.87</td>\n",
       "      <td>109.87</td>\n",
       "      <td>109.6600</td>\n",
       "      <td>109.67</td>\n",
       "      <td>2308932</td>\n",
       "      <td>11031</td>\n",
       "      <td>109.771749</td>\n",
       "      <td>0.000913</td>\n",
       "    </tr>\n",
       "    <tr>\n",
       "      <th>2017-08-10 04:00:00+00:00</th>\n",
       "      <td>246.30</td>\n",
       "      <td>246.44</td>\n",
       "      <td>243.70</td>\n",
       "      <td>243.76</td>\n",
       "      <td>120418270</td>\n",
       "      <td>424321</td>\n",
       "      <td>245.027847</td>\n",
       "      <td>-0.014115</td>\n",
       "      <td>109.70</td>\n",
       "      <td>109.85</td>\n",
       "      <td>109.6700</td>\n",
       "      <td>109.78</td>\n",
       "      <td>2004163</td>\n",
       "      <td>12437</td>\n",
       "      <td>109.776611</td>\n",
       "      <td>0.001003</td>\n",
       "    </tr>\n",
       "    <tr>\n",
       "      <th>2017-08-11 04:00:00+00:00</th>\n",
       "      <td>244.00</td>\n",
       "      <td>244.80</td>\n",
       "      <td>243.75</td>\n",
       "      <td>244.12</td>\n",
       "      <td>74869947</td>\n",
       "      <td>278786</td>\n",
       "      <td>244.222867</td>\n",
       "      <td>0.001477</td>\n",
       "      <td>109.75</td>\n",
       "      <td>109.94</td>\n",
       "      <td>109.6800</td>\n",
       "      <td>109.87</td>\n",
       "      <td>1913253</td>\n",
       "      <td>10113</td>\n",
       "      <td>109.860974</td>\n",
       "      <td>0.000820</td>\n",
       "    </tr>\n",
       "  </tbody>\n",
       "</table>\n",
       "</div>"
      ],
      "text/plain": [
       "                              SPY                                     \\\n",
       "                             open    high     low   close     volume   \n",
       "timestamp                                                              \n",
       "2017-08-07 04:00:00+00:00  247.50  247.87  247.37  247.87   31995021   \n",
       "2017-08-08 04:00:00+00:00  247.49  248.91  246.83  247.26   61719353   \n",
       "2017-08-09 04:00:00+00:00  246.46  247.31  246.06  247.25   62632619   \n",
       "2017-08-10 04:00:00+00:00  246.30  246.44  243.70  243.76  120418270   \n",
       "2017-08-11 04:00:00+00:00  244.00  244.80  243.75  244.12   74869947   \n",
       "\n",
       "                                                                   AGG  \\\n",
       "                          trade_count        vwap daily_return    open   \n",
       "timestamp                                                                \n",
       "2017-08-07 04:00:00+00:00      100111  247.668698          NaN  109.69   \n",
       "2017-08-08 04:00:00+00:00      192921  247.739709    -0.002461  109.67   \n",
       "2017-08-09 04:00:00+00:00      223650  246.791421    -0.000040  109.87   \n",
       "2017-08-10 04:00:00+00:00      424321  245.027847    -0.014115  109.70   \n",
       "2017-08-11 04:00:00+00:00      278786  244.222867     0.001477  109.75   \n",
       "\n",
       "                                                                          \\\n",
       "                             high       low   close   volume trade_count   \n",
       "timestamp                                                                  \n",
       "2017-08-07 04:00:00+00:00  109.72  109.6066  109.67  2359826        7755   \n",
       "2017-08-08 04:00:00+00:00  109.69  109.5000  109.57  2570876       12663   \n",
       "2017-08-09 04:00:00+00:00  109.87  109.6600  109.67  2308932       11031   \n",
       "2017-08-10 04:00:00+00:00  109.85  109.6700  109.78  2004163       12437   \n",
       "2017-08-11 04:00:00+00:00  109.94  109.6800  109.87  1913253       10113   \n",
       "\n",
       "                                                    \n",
       "                                 vwap daily_return  \n",
       "timestamp                                           \n",
       "2017-08-07 04:00:00+00:00  109.674876          NaN  \n",
       "2017-08-08 04:00:00+00:00  109.577636    -0.000912  \n",
       "2017-08-09 04:00:00+00:00  109.771749     0.000913  \n",
       "2017-08-10 04:00:00+00:00  109.776611     0.001003  \n",
       "2017-08-11 04:00:00+00:00  109.860974     0.000820  "
      ]
     },
     "execution_count": 45,
     "metadata": {},
     "output_type": "execute_result"
    }
   ],
   "source": [
    "# Configure a Monte Carlo simulation to forecast 10 years cumulative returns\n",
    "# The weights should be split 20% to AGG and 80% to SPY.\n",
    "# Run 500 samples.\n",
    "MC_10year = MCSimulation(\n",
    "    portfolio_data = prices_df, \n",
    "    weights = [.80, .20],\n",
    "    num_simulation = 500,\n",
    "    num_trading_days = 252 * 10)\n",
    "\n",
    "# Review the simulation input data\n",
    "MC_10year.portfolio_data.head()\n"
   ]
  },
  {
   "cell_type": "code",
   "execution_count": 46,
   "metadata": {
    "scrolled": true,
    "tags": []
   },
   "outputs": [
    {
     "name": "stdout",
     "output_type": "stream",
     "text": [
      "Running Monte Carlo simulation number 0.\n",
      "Running Monte Carlo simulation number 10.\n",
      "Running Monte Carlo simulation number 20.\n",
      "Running Monte Carlo simulation number 30.\n",
      "Running Monte Carlo simulation number 40.\n",
      "Running Monte Carlo simulation number 50.\n",
      "Running Monte Carlo simulation number 60.\n",
      "Running Monte Carlo simulation number 70.\n",
      "Running Monte Carlo simulation number 80.\n",
      "Running Monte Carlo simulation number 90.\n",
      "Running Monte Carlo simulation number 100.\n"
     ]
    },
    {
     "name": "stderr",
     "output_type": "stream",
     "text": [
      "/Users/quinnwong/Dev/github/UCB_FintechBootcamp/modules/5_ModuleChallenge/FinancialPlanningTool/MCForecastTools.py:117: PerformanceWarning: DataFrame is highly fragmented.  This is usually the result of calling `frame.insert` many times, which has poor performance.  Consider joining all columns at once using pd.concat(axis=1) instead.  To get a de-fragmented frame, use `newframe = frame.copy()`\n",
      "  portfolio_cumulative_returns[n] = (1 + sim_df.fillna(0)).cumprod()\n"
     ]
    },
    {
     "name": "stdout",
     "output_type": "stream",
     "text": [
      "Running Monte Carlo simulation number 110.\n",
      "Running Monte Carlo simulation number 120.\n",
      "Running Monte Carlo simulation number 130.\n",
      "Running Monte Carlo simulation number 140.\n",
      "Running Monte Carlo simulation number 150.\n",
      "Running Monte Carlo simulation number 160.\n",
      "Running Monte Carlo simulation number 170.\n",
      "Running Monte Carlo simulation number 180.\n",
      "Running Monte Carlo simulation number 190.\n",
      "Running Monte Carlo simulation number 200.\n",
      "Running Monte Carlo simulation number 210.\n",
      "Running Monte Carlo simulation number 220.\n",
      "Running Monte Carlo simulation number 230.\n",
      "Running Monte Carlo simulation number 240.\n",
      "Running Monte Carlo simulation number 250.\n",
      "Running Monte Carlo simulation number 260.\n",
      "Running Monte Carlo simulation number 270.\n",
      "Running Monte Carlo simulation number 280.\n",
      "Running Monte Carlo simulation number 290.\n",
      "Running Monte Carlo simulation number 300.\n",
      "Running Monte Carlo simulation number 310.\n",
      "Running Monte Carlo simulation number 320.\n",
      "Running Monte Carlo simulation number 330.\n",
      "Running Monte Carlo simulation number 340.\n",
      "Running Monte Carlo simulation number 350.\n",
      "Running Monte Carlo simulation number 360.\n",
      "Running Monte Carlo simulation number 370.\n",
      "Running Monte Carlo simulation number 380.\n",
      "Running Monte Carlo simulation number 390.\n",
      "Running Monte Carlo simulation number 400.\n",
      "Running Monte Carlo simulation number 410.\n",
      "Running Monte Carlo simulation number 420.\n",
      "Running Monte Carlo simulation number 430.\n",
      "Running Monte Carlo simulation number 440.\n",
      "Running Monte Carlo simulation number 450.\n",
      "Running Monte Carlo simulation number 460.\n",
      "Running Monte Carlo simulation number 470.\n",
      "Running Monte Carlo simulation number 480.\n",
      "Running Monte Carlo simulation number 490.\n"
     ]
    },
    {
     "data": {
      "text/html": [
       "<div>\n",
       "<style scoped>\n",
       "    .dataframe tbody tr th:only-of-type {\n",
       "        vertical-align: middle;\n",
       "    }\n",
       "\n",
       "    .dataframe tbody tr th {\n",
       "        vertical-align: top;\n",
       "    }\n",
       "\n",
       "    .dataframe thead th {\n",
       "        text-align: right;\n",
       "    }\n",
       "</style>\n",
       "<table border=\"1\" class=\"dataframe\">\n",
       "  <thead>\n",
       "    <tr style=\"text-align: right;\">\n",
       "      <th></th>\n",
       "      <th>0</th>\n",
       "      <th>1</th>\n",
       "      <th>2</th>\n",
       "      <th>3</th>\n",
       "      <th>4</th>\n",
       "      <th>5</th>\n",
       "      <th>6</th>\n",
       "      <th>7</th>\n",
       "      <th>8</th>\n",
       "      <th>9</th>\n",
       "      <th>...</th>\n",
       "      <th>490</th>\n",
       "      <th>491</th>\n",
       "      <th>492</th>\n",
       "      <th>493</th>\n",
       "      <th>494</th>\n",
       "      <th>495</th>\n",
       "      <th>496</th>\n",
       "      <th>497</th>\n",
       "      <th>498</th>\n",
       "      <th>499</th>\n",
       "    </tr>\n",
       "  </thead>\n",
       "  <tbody>\n",
       "    <tr>\n",
       "      <th>0</th>\n",
       "      <td>1.000000</td>\n",
       "      <td>1.000000</td>\n",
       "      <td>1.000000</td>\n",
       "      <td>1.000000</td>\n",
       "      <td>1.000000</td>\n",
       "      <td>1.000000</td>\n",
       "      <td>1.000000</td>\n",
       "      <td>1.000000</td>\n",
       "      <td>1.000000</td>\n",
       "      <td>1.000000</td>\n",
       "      <td>...</td>\n",
       "      <td>1.000000</td>\n",
       "      <td>1.000000</td>\n",
       "      <td>1.000000</td>\n",
       "      <td>1.000000</td>\n",
       "      <td>1.000000</td>\n",
       "      <td>1.000000</td>\n",
       "      <td>1.000000</td>\n",
       "      <td>1.000000</td>\n",
       "      <td>1.000000</td>\n",
       "      <td>1.000000</td>\n",
       "    </tr>\n",
       "    <tr>\n",
       "      <th>1</th>\n",
       "      <td>0.997651</td>\n",
       "      <td>0.992487</td>\n",
       "      <td>1.006423</td>\n",
       "      <td>0.986368</td>\n",
       "      <td>0.996941</td>\n",
       "      <td>1.012641</td>\n",
       "      <td>0.998489</td>\n",
       "      <td>0.990374</td>\n",
       "      <td>1.010511</td>\n",
       "      <td>1.008165</td>\n",
       "      <td>...</td>\n",
       "      <td>0.983844</td>\n",
       "      <td>0.995870</td>\n",
       "      <td>0.999049</td>\n",
       "      <td>1.013375</td>\n",
       "      <td>0.988041</td>\n",
       "      <td>0.998286</td>\n",
       "      <td>0.992236</td>\n",
       "      <td>0.989203</td>\n",
       "      <td>1.003895</td>\n",
       "      <td>1.026704</td>\n",
       "    </tr>\n",
       "    <tr>\n",
       "      <th>2</th>\n",
       "      <td>1.001580</td>\n",
       "      <td>0.985949</td>\n",
       "      <td>0.987442</td>\n",
       "      <td>0.976660</td>\n",
       "      <td>0.984825</td>\n",
       "      <td>1.004640</td>\n",
       "      <td>0.974525</td>\n",
       "      <td>0.996314</td>\n",
       "      <td>0.997774</td>\n",
       "      <td>1.000242</td>\n",
       "      <td>...</td>\n",
       "      <td>1.004984</td>\n",
       "      <td>0.993771</td>\n",
       "      <td>0.975364</td>\n",
       "      <td>1.025601</td>\n",
       "      <td>1.003877</td>\n",
       "      <td>1.014070</td>\n",
       "      <td>1.002934</td>\n",
       "      <td>0.979231</td>\n",
       "      <td>0.994351</td>\n",
       "      <td>1.035908</td>\n",
       "    </tr>\n",
       "    <tr>\n",
       "      <th>3</th>\n",
       "      <td>0.993374</td>\n",
       "      <td>0.992530</td>\n",
       "      <td>0.992608</td>\n",
       "      <td>0.938109</td>\n",
       "      <td>0.987006</td>\n",
       "      <td>1.002911</td>\n",
       "      <td>0.969624</td>\n",
       "      <td>0.982812</td>\n",
       "      <td>0.995059</td>\n",
       "      <td>1.007185</td>\n",
       "      <td>...</td>\n",
       "      <td>1.002920</td>\n",
       "      <td>0.994555</td>\n",
       "      <td>0.966490</td>\n",
       "      <td>1.024808</td>\n",
       "      <td>0.994553</td>\n",
       "      <td>1.017424</td>\n",
       "      <td>0.980353</td>\n",
       "      <td>0.962477</td>\n",
       "      <td>0.989036</td>\n",
       "      <td>1.042078</td>\n",
       "    </tr>\n",
       "    <tr>\n",
       "      <th>4</th>\n",
       "      <td>0.991759</td>\n",
       "      <td>0.998706</td>\n",
       "      <td>0.983454</td>\n",
       "      <td>0.938358</td>\n",
       "      <td>0.977060</td>\n",
       "      <td>0.990382</td>\n",
       "      <td>0.963262</td>\n",
       "      <td>0.963174</td>\n",
       "      <td>1.007925</td>\n",
       "      <td>1.009878</td>\n",
       "      <td>...</td>\n",
       "      <td>1.004355</td>\n",
       "      <td>0.993245</td>\n",
       "      <td>0.974051</td>\n",
       "      <td>0.999434</td>\n",
       "      <td>0.995628</td>\n",
       "      <td>1.019213</td>\n",
       "      <td>0.965733</td>\n",
       "      <td>0.968947</td>\n",
       "      <td>0.991545</td>\n",
       "      <td>1.042302</td>\n",
       "    </tr>\n",
       "    <tr>\n",
       "      <th>...</th>\n",
       "      <td>...</td>\n",
       "      <td>...</td>\n",
       "      <td>...</td>\n",
       "      <td>...</td>\n",
       "      <td>...</td>\n",
       "      <td>...</td>\n",
       "      <td>...</td>\n",
       "      <td>...</td>\n",
       "      <td>...</td>\n",
       "      <td>...</td>\n",
       "      <td>...</td>\n",
       "      <td>...</td>\n",
       "      <td>...</td>\n",
       "      <td>...</td>\n",
       "      <td>...</td>\n",
       "      <td>...</td>\n",
       "      <td>...</td>\n",
       "      <td>...</td>\n",
       "      <td>...</td>\n",
       "      <td>...</td>\n",
       "      <td>...</td>\n",
       "    </tr>\n",
       "    <tr>\n",
       "      <th>2516</th>\n",
       "      <td>0.475079</td>\n",
       "      <td>2.869777</td>\n",
       "      <td>3.138882</td>\n",
       "      <td>2.225905</td>\n",
       "      <td>1.274934</td>\n",
       "      <td>1.375205</td>\n",
       "      <td>2.778793</td>\n",
       "      <td>1.470195</td>\n",
       "      <td>3.269896</td>\n",
       "      <td>4.065591</td>\n",
       "      <td>...</td>\n",
       "      <td>4.178669</td>\n",
       "      <td>2.736439</td>\n",
       "      <td>10.631497</td>\n",
       "      <td>2.561604</td>\n",
       "      <td>3.015361</td>\n",
       "      <td>1.437673</td>\n",
       "      <td>1.643327</td>\n",
       "      <td>2.012632</td>\n",
       "      <td>4.352171</td>\n",
       "      <td>1.559924</td>\n",
       "    </tr>\n",
       "    <tr>\n",
       "      <th>2517</th>\n",
       "      <td>0.471273</td>\n",
       "      <td>2.888249</td>\n",
       "      <td>3.137322</td>\n",
       "      <td>2.262243</td>\n",
       "      <td>1.277028</td>\n",
       "      <td>1.384246</td>\n",
       "      <td>2.775902</td>\n",
       "      <td>1.467290</td>\n",
       "      <td>3.268333</td>\n",
       "      <td>4.009663</td>\n",
       "      <td>...</td>\n",
       "      <td>4.180030</td>\n",
       "      <td>2.693996</td>\n",
       "      <td>10.434616</td>\n",
       "      <td>2.495850</td>\n",
       "      <td>3.037158</td>\n",
       "      <td>1.458942</td>\n",
       "      <td>1.619645</td>\n",
       "      <td>2.006929</td>\n",
       "      <td>4.432361</td>\n",
       "      <td>1.558994</td>\n",
       "    </tr>\n",
       "    <tr>\n",
       "      <th>2518</th>\n",
       "      <td>0.476264</td>\n",
       "      <td>2.911508</td>\n",
       "      <td>3.124364</td>\n",
       "      <td>2.267800</td>\n",
       "      <td>1.271791</td>\n",
       "      <td>1.394150</td>\n",
       "      <td>2.768455</td>\n",
       "      <td>1.468379</td>\n",
       "      <td>3.283508</td>\n",
       "      <td>4.091506</td>\n",
       "      <td>...</td>\n",
       "      <td>4.186593</td>\n",
       "      <td>2.660854</td>\n",
       "      <td>10.648897</td>\n",
       "      <td>2.514103</td>\n",
       "      <td>3.056031</td>\n",
       "      <td>1.429019</td>\n",
       "      <td>1.599478</td>\n",
       "      <td>1.982701</td>\n",
       "      <td>4.437064</td>\n",
       "      <td>1.538918</td>\n",
       "    </tr>\n",
       "    <tr>\n",
       "      <th>2519</th>\n",
       "      <td>0.476841</td>\n",
       "      <td>2.932613</td>\n",
       "      <td>3.071134</td>\n",
       "      <td>2.235262</td>\n",
       "      <td>1.282057</td>\n",
       "      <td>1.400550</td>\n",
       "      <td>2.790399</td>\n",
       "      <td>1.466920</td>\n",
       "      <td>3.231265</td>\n",
       "      <td>4.108745</td>\n",
       "      <td>...</td>\n",
       "      <td>4.235600</td>\n",
       "      <td>2.631232</td>\n",
       "      <td>10.516828</td>\n",
       "      <td>2.514603</td>\n",
       "      <td>3.006552</td>\n",
       "      <td>1.435288</td>\n",
       "      <td>1.571950</td>\n",
       "      <td>1.991560</td>\n",
       "      <td>4.449728</td>\n",
       "      <td>1.536333</td>\n",
       "    </tr>\n",
       "    <tr>\n",
       "      <th>2520</th>\n",
       "      <td>0.477134</td>\n",
       "      <td>2.985479</td>\n",
       "      <td>3.098964</td>\n",
       "      <td>2.224108</td>\n",
       "      <td>1.260272</td>\n",
       "      <td>1.393599</td>\n",
       "      <td>2.808468</td>\n",
       "      <td>1.462143</td>\n",
       "      <td>3.175471</td>\n",
       "      <td>4.086218</td>\n",
       "      <td>...</td>\n",
       "      <td>4.215708</td>\n",
       "      <td>2.663508</td>\n",
       "      <td>10.303269</td>\n",
       "      <td>2.547016</td>\n",
       "      <td>3.044022</td>\n",
       "      <td>1.425924</td>\n",
       "      <td>1.583788</td>\n",
       "      <td>2.021786</td>\n",
       "      <td>4.483211</td>\n",
       "      <td>1.555441</td>\n",
       "    </tr>\n",
       "  </tbody>\n",
       "</table>\n",
       "<p>2521 rows × 500 columns</p>\n",
       "</div>"
      ],
      "text/plain": [
       "           0         1         2         3         4         5         6    \\\n",
       "0     1.000000  1.000000  1.000000  1.000000  1.000000  1.000000  1.000000   \n",
       "1     0.997651  0.992487  1.006423  0.986368  0.996941  1.012641  0.998489   \n",
       "2     1.001580  0.985949  0.987442  0.976660  0.984825  1.004640  0.974525   \n",
       "3     0.993374  0.992530  0.992608  0.938109  0.987006  1.002911  0.969624   \n",
       "4     0.991759  0.998706  0.983454  0.938358  0.977060  0.990382  0.963262   \n",
       "...        ...       ...       ...       ...       ...       ...       ...   \n",
       "2516  0.475079  2.869777  3.138882  2.225905  1.274934  1.375205  2.778793   \n",
       "2517  0.471273  2.888249  3.137322  2.262243  1.277028  1.384246  2.775902   \n",
       "2518  0.476264  2.911508  3.124364  2.267800  1.271791  1.394150  2.768455   \n",
       "2519  0.476841  2.932613  3.071134  2.235262  1.282057  1.400550  2.790399   \n",
       "2520  0.477134  2.985479  3.098964  2.224108  1.260272  1.393599  2.808468   \n",
       "\n",
       "           7         8         9    ...       490       491        492  \\\n",
       "0     1.000000  1.000000  1.000000  ...  1.000000  1.000000   1.000000   \n",
       "1     0.990374  1.010511  1.008165  ...  0.983844  0.995870   0.999049   \n",
       "2     0.996314  0.997774  1.000242  ...  1.004984  0.993771   0.975364   \n",
       "3     0.982812  0.995059  1.007185  ...  1.002920  0.994555   0.966490   \n",
       "4     0.963174  1.007925  1.009878  ...  1.004355  0.993245   0.974051   \n",
       "...        ...       ...       ...  ...       ...       ...        ...   \n",
       "2516  1.470195  3.269896  4.065591  ...  4.178669  2.736439  10.631497   \n",
       "2517  1.467290  3.268333  4.009663  ...  4.180030  2.693996  10.434616   \n",
       "2518  1.468379  3.283508  4.091506  ...  4.186593  2.660854  10.648897   \n",
       "2519  1.466920  3.231265  4.108745  ...  4.235600  2.631232  10.516828   \n",
       "2520  1.462143  3.175471  4.086218  ...  4.215708  2.663508  10.303269   \n",
       "\n",
       "           493       494       495       496       497       498       499  \n",
       "0     1.000000  1.000000  1.000000  1.000000  1.000000  1.000000  1.000000  \n",
       "1     1.013375  0.988041  0.998286  0.992236  0.989203  1.003895  1.026704  \n",
       "2     1.025601  1.003877  1.014070  1.002934  0.979231  0.994351  1.035908  \n",
       "3     1.024808  0.994553  1.017424  0.980353  0.962477  0.989036  1.042078  \n",
       "4     0.999434  0.995628  1.019213  0.965733  0.968947  0.991545  1.042302  \n",
       "...        ...       ...       ...       ...       ...       ...       ...  \n",
       "2516  2.561604  3.015361  1.437673  1.643327  2.012632  4.352171  1.559924  \n",
       "2517  2.495850  3.037158  1.458942  1.619645  2.006929  4.432361  1.558994  \n",
       "2518  2.514103  3.056031  1.429019  1.599478  1.982701  4.437064  1.538918  \n",
       "2519  2.514603  3.006552  1.435288  1.571950  1.991560  4.449728  1.536333  \n",
       "2520  2.547016  3.044022  1.425924  1.583788  2.021786  4.483211  1.555441  \n",
       "\n",
       "[2521 rows x 500 columns]"
      ]
     },
     "execution_count": 46,
     "metadata": {},
     "output_type": "execute_result"
    }
   ],
   "source": [
    "# Run the Monte Carlo simulation to forecast 10 years cumulative returns\n",
    "MC_10year.calc_cumulative_return()\n"
   ]
  },
  {
   "cell_type": "code",
   "execution_count": 47,
   "metadata": {
    "scrolled": true,
    "tags": []
   },
   "outputs": [
    {
     "data": {
      "text/plain": [
       "<AxesSubplot:title={'center':'500 Simulations of Cumulative Portfolio Return Trajectories Over the Next 2520 Trading Days.'}>"
      ]
     },
     "execution_count": 47,
     "metadata": {},
     "output_type": "execute_result"
    },
    {
     "data": {
      "image/png": "[encoded data removed]",
      "text/plain": [
       "<Figure size 432x288 with 1 Axes>"
      ]
     },
     "metadata": {
      "needs_background": "light"
     },
     "output_type": "display_data"
    }
   ],
   "source": [
    "# Visualize the 10-year Monte Carlo simulation by creating an\n",
    "# overlay line plot\n",
    "MC_10year.plot_simulation()\n"
   ]
  },
  {
   "cell_type": "code",
   "execution_count": 48,
   "metadata": {},
   "outputs": [
    {
     "data": {
      "text/plain": [
       "<AxesSubplot:title={'center':'Distribution of Final Cumuluative Returns Across All 500 Simulations'}, ylabel='Frequency'>"
      ]
     },
     "execution_count": 48,
     "metadata": {},
     "output_type": "execute_result"
    },
    {
     "data": {
      "image/png": "[encoded data removed]",
      "text/plain": [
       "<Figure size 432x288 with 1 Axes>"
      ]
     },
     "metadata": {
      "needs_background": "light"
     },
     "output_type": "display_data"
    }
   ],
   "source": [
    "# Visualize the probability distribution of the 10-year Monte Carlo simulation \n",
    "# by plotting a histogram\n",
    "MC_10year.plot_distribution()\n"
   ]
  },
  {
   "cell_type": "code",
   "execution_count": 49,
   "metadata": {},
   "outputs": [
    {
     "data": {
      "text/plain": [
       "count           500.000000\n",
       "mean              2.923516\n",
       "std               1.951467\n",
       "min               0.477134\n",
       "25%               1.630230\n",
       "50%               2.383202\n",
       "75%               3.632653\n",
       "max              15.680382\n",
       "95% CI Lower      0.824509\n",
       "95% CI Upper      8.323750\n",
       "Name: 2520, dtype: float64"
      ]
     },
     "metadata": {},
     "output_type": "display_data"
    }
   ],
   "source": [
    "# Generate summary statistics from the 10-year Monte Carlo simulation results\n",
    "# Save the results as a variable\n",
    "MC_10year_summary_statistics = MC_10year.summarize_cumulative_return()\n",
    "\n",
    "\n",
    "# Review the 10-year Monte Carlo summary statistics\n",
    "display(MC_10year_summary_statistics)"
   ]
  },
  {
   "cell_type": "markdown",
   "metadata": {},
   "source": [
    "### Answer the following questions:"
   ]
  },
  {
   "cell_type": "markdown",
   "metadata": {},
   "source": [
    "#### Question: Using the current value of only the stock and bond portion of the member's portfolio and the summary statistics that you generated from the new Monte Carlo simulation, what are the lower and upper bounds for the expected value of the portfolio (with the new weights) with a 95% confidence interval?"
   ]
  },
  {
   "cell_type": "code",
   "execution_count": 50,
   "metadata": {},
   "outputs": [
    {
     "name": "stdout",
     "output_type": "stream",
     "text": [
      "The current balance of the stock and bond portion of the members portfolio is $62814.30.\n"
     ]
    }
   ],
   "source": [
    "# Print the current balance of the stock and bond portion of the members portfolio\n",
    "print(f\"The current balance of the stock and bond portion of the members portfolio is ${total_stocks_bonds :.2f}.\")\n"
   ]
  },
  {
   "cell_type": "code",
   "execution_count": 51,
   "metadata": {},
   "outputs": [
    {
     "name": "stdout",
     "output_type": "stream",
     "text": [
      "There is a 95% chance that an initial investment of $62814.3 in the portfolio over the next 10 years will end within in the range of $ 51790.94 and $ 522850.54.\n"
     ]
    }
   ],
   "source": [
    "# Use the lower and upper `95%` confidence intervals to calculate the range of the possible outcomes for the current stock/bond portfolio\n",
    "ci_lower_ten_cumulative_return = MC_10year_summary_statistics[8] * total_stocks_bonds\n",
    "ci_upper_ten_cumulative_return = MC_10year_summary_statistics[9] * total_stocks_bonds\n",
    "\n",
    "# Print the result of your calculations\n",
    "# Print the result of your calculations\n",
    "print(f\"There is a 95% chance that an initial investment of ${total_stocks_bonds} in the portfolio\"\n",
    "    f\" over the next 10 years will end within in the range of\"\n",
    "    f\" ${ci_lower_ten_cumulative_return: .2f} and ${ci_upper_ten_cumulative_return: .2f}.\")\n"
   ]
  },
  {
   "cell_type": "markdown",
   "metadata": {},
   "source": [
    "#### Question: Will weighting the portfolio more heavily to stocks allow the credit union members to retire after only 10 years?"
   ]
  },
  {
   "cell_type": "raw",
   "metadata": {},
   "source": [
    "**Answer** # Yes, because the 10-year 95% upper confidence interval falls within the 95% range of 30-year confidence interval.  "
   ]
  },
  {
   "cell_type": "code",
   "execution_count": null,
   "metadata": {},
   "outputs": [],
   "source": []
  }
 ],
 "metadata": {
  "kernelspec": {
   "display_name": "Python 3 (ipykernel)",
   "language": "python",
   "name": "python3"
  },
  "language_info": {
   "codemirror_mode": {
    "name": "ipython",
    "version": 3
   },
   "file_extension": ".py",
   "mimetype": "text/x-python",
   "name": "python",
   "nbconvert_exporter": "python",
   "pygments_lexer": "ipython3",
   "version": "3.7.13"
  },
  "vscode": {
   "interpreter": {
    "hash": "31f2aee4e71d21fbe5cf8b01ff0e069b9275f58929596ceb00d14d90e3e16cd6"
   }
  }
 },
 "nbformat": 4,
 "nbformat_minor": 4
}
